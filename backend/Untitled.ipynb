{
 "cells": [
  {
   "cell_type": "code",
   "execution_count": 23,
   "metadata": {},
   "outputs": [],
   "source": [
    "import pandas as pd\n",
    "import numpy as np"
   ]
  },
  {
   "cell_type": "code",
   "execution_count": 2,
   "metadata": {},
   "outputs": [],
   "source": [
    "vcffile = '../tests/vcfs/test.vcf'\n",
    "\n",
    "\n",
    "def parse_thermo_vcf(vcf):\n",
    "    ''' Les inn vcf til pandas dataframe'''\n",
    "    df = pd.read_csv(vcffile, sep=\"\\t\", comment='#', names=[\"CHROM\",\"POS\",\"ID\",\"REF\",\"ALT\",\"QUAL\",\"FILTER\",\"INFO\",\"FORMAT\",\"GT\"])\n",
    "    return df\n",
    "   \n",
    "def filter_nocalls(df):\n",
    "    ''' Fjern varianter som begynner med 0/0 eller ./.'''\n",
    "    dfOut = df[   (~(df['GT'].str.startswith('./.')))   & (~(df['GT'].str.startswith('0/0')))   ]\n",
    "    return dfOut\n",
    "\n",
    "\n",
    "    \n",
    "\n",
    "\n",
    "\n",
    "df = parse_thermo_vcf(vcffile)\n",
    "df = filter_nocalls(df)\n"
   ]
  },
  {
   "cell_type": "code",
   "execution_count": 7,
   "metadata": {},
   "outputs": [],
   "source": [
    "mini = df.head()"
   ]
  },
  {
   "cell_type": "code",
   "execution_count": 30,
   "metadata": {},
   "outputs": [
    {
     "data": {
      "text/html": [
       "<div>\n",
       "<style scoped>\n",
       "    .dataframe tbody tr th:only-of-type {\n",
       "        vertical-align: middle;\n",
       "    }\n",
       "\n",
       "    .dataframe tbody tr th {\n",
       "        vertical-align: top;\n",
       "    }\n",
       "\n",
       "    .dataframe thead th {\n",
       "        text-align: right;\n",
       "    }\n",
       "</style>\n",
       "<table border=\"1\" class=\"dataframe\">\n",
       "  <thead>\n",
       "    <tr style=\"text-align: right;\">\n",
       "      <th></th>\n",
       "      <th>CHROM</th>\n",
       "      <th>POS</th>\n",
       "      <th>ID</th>\n",
       "      <th>REF</th>\n",
       "      <th>ALT</th>\n",
       "      <th>QUAL</th>\n",
       "      <th>FILTER</th>\n",
       "      <th>INFO</th>\n",
       "      <th>FORMAT</th>\n",
       "      <th>GT</th>\n",
       "    </tr>\n",
       "  </thead>\n",
       "  <tbody>\n",
       "    <tr>\n",
       "      <th>26</th>\n",
       "      <td>chr1</td>\n",
       "      <td>11187893</td>\n",
       "      <td>.</td>\n",
       "      <td>T</td>\n",
       "      <td>C</td>\n",
       "      <td>10540.1</td>\n",
       "      <td>PASS</td>\n",
       "      <td>AF=0.995253;AO=623;DP=632;FAO=629;FDP=632;FDVR...</td>\n",
       "      <td>GT:GQ:DP:FDP:RO:FRO:AO:FAO:AF:SAR:SAF:SRF:SRR:...</td>\n",
       "      <td>1/1:28:632:632:1:3:623:629:0.995253:256:367:0:...</td>\n",
       "    </tr>\n",
       "    <tr>\n",
       "      <th>58</th>\n",
       "      <td>chr1</td>\n",
       "      <td>27089638</td>\n",
       "      <td>.</td>\n",
       "      <td>A</td>\n",
       "      <td>G</td>\n",
       "      <td>69.4455</td>\n",
       "      <td>PASS</td>\n",
       "      <td>AF=0.0668449;AO=25;DP=374;FAO=25;FDP=374;FDVR=...</td>\n",
       "      <td>GT:GQ:DP:FDP:RO:FRO:AO:FAO:AF:SAR:SAF:SRF:SRR:...</td>\n",
       "      <td>0/1:69:374:374:346:349:25:25:0.0668449:14:11:1...</td>\n",
       "    </tr>\n",
       "    <tr>\n",
       "      <th>61</th>\n",
       "      <td>chr1</td>\n",
       "      <td>27100205</td>\n",
       "      <td>.</td>\n",
       "      <td>A</td>\n",
       "      <td>AGCA</td>\n",
       "      <td>1451.4</td>\n",
       "      <td>PASS</td>\n",
       "      <td>AF=0.437299;AO=146;DP=453;FAO=136;FDP=311;FDVR...</td>\n",
       "      <td>GT:GQ:DP:FDP:RO:FRO:AO:FAO:AF:SAR:SAF:SRF:SRR:...</td>\n",
       "      <td>0/1:1312:453:311:205:167:146:136:0.437299:61:8...</td>\n",
       "    </tr>\n",
       "    <tr>\n",
       "      <th>77</th>\n",
       "      <td>chr1</td>\n",
       "      <td>40363054</td>\n",
       "      <td>.</td>\n",
       "      <td>G</td>\n",
       "      <td>C</td>\n",
       "      <td>929.937</td>\n",
       "      <td>PASS</td>\n",
       "      <td>AF=0.494318;AO=85;DP=176;FAO=87;FDP=176;FDVR=5...</td>\n",
       "      <td>GT:GQ:DP:FDP:RO:FRO:AO:FAO:AF:SAR:SAF:SRF:SRR:...</td>\n",
       "      <td>0/1:929:176:176:85:89:85:87:0.494318:51:34:41:...</td>\n",
       "    </tr>\n",
       "    <tr>\n",
       "      <th>103</th>\n",
       "      <td>chr1</td>\n",
       "      <td>65311214</td>\n",
       "      <td>.</td>\n",
       "      <td>G</td>\n",
       "      <td>C</td>\n",
       "      <td>3322.39</td>\n",
       "      <td>PASS</td>\n",
       "      <td>AF=0.420918;AO=325;DP=771;FAO=330;FDP=784;FDVR...</td>\n",
       "      <td>GT:GQ:DP:FDP:RO:FRO:AO:FAO:AF:SAR:SAF:SRF:SRR:...</td>\n",
       "      <td>0/1:3322:771:784:436:454:325:330:0.420918:184:...</td>\n",
       "    </tr>\n",
       "  </tbody>\n",
       "</table>\n",
       "</div>"
      ],
      "text/plain": [
       "    CHROM       POS ID REF   ALT     QUAL FILTER  \\\n",
       "26   chr1  11187893  .   T     C  10540.1   PASS   \n",
       "58   chr1  27089638  .   A     G  69.4455   PASS   \n",
       "61   chr1  27100205  .   A  AGCA   1451.4   PASS   \n",
       "77   chr1  40363054  .   G     C  929.937   PASS   \n",
       "103  chr1  65311214  .   G     C  3322.39   PASS   \n",
       "\n",
       "                                                  INFO  \\\n",
       "26   AF=0.995253;AO=623;DP=632;FAO=629;FDP=632;FDVR...   \n",
       "58   AF=0.0668449;AO=25;DP=374;FAO=25;FDP=374;FDVR=...   \n",
       "61   AF=0.437299;AO=146;DP=453;FAO=136;FDP=311;FDVR...   \n",
       "77   AF=0.494318;AO=85;DP=176;FAO=87;FDP=176;FDVR=5...   \n",
       "103  AF=0.420918;AO=325;DP=771;FAO=330;FDP=784;FDVR...   \n",
       "\n",
       "                                                FORMAT  \\\n",
       "26   GT:GQ:DP:FDP:RO:FRO:AO:FAO:AF:SAR:SAF:SRF:SRR:...   \n",
       "58   GT:GQ:DP:FDP:RO:FRO:AO:FAO:AF:SAR:SAF:SRF:SRR:...   \n",
       "61   GT:GQ:DP:FDP:RO:FRO:AO:FAO:AF:SAR:SAF:SRF:SRR:...   \n",
       "77   GT:GQ:DP:FDP:RO:FRO:AO:FAO:AF:SAR:SAF:SRF:SRR:...   \n",
       "103  GT:GQ:DP:FDP:RO:FRO:AO:FAO:AF:SAR:SAF:SRF:SRR:...   \n",
       "\n",
       "                                                    GT  \n",
       "26   1/1:28:632:632:1:3:623:629:0.995253:256:367:0:...  \n",
       "58   0/1:69:374:374:346:349:25:25:0.0668449:14:11:1...  \n",
       "61   0/1:1312:453:311:205:167:146:136:0.437299:61:8...  \n",
       "77   0/1:929:176:176:85:89:85:87:0.494318:51:34:41:...  \n",
       "103  0/1:3322:771:784:436:454:325:330:0.420918:184:...  "
      ]
     },
     "execution_count": 30,
     "metadata": {},
     "output_type": "execute_result"
    }
   ],
   "source": [
    "mini"
   ]
  },
  {
   "cell_type": "code",
   "execution_count": 18,
   "metadata": {},
   "outputs": [
    {
     "data": {
      "text/plain": [
       "26     Index([], dtype='object')\n",
       "58     Index([], dtype='object')\n",
       "61     Index([], dtype='object')\n",
       "77     Index([], dtype='object')\n",
       "103    Index([], dtype='object')\n",
       "dtype: object"
      ]
     },
     "execution_count": 18,
     "metadata": {},
     "output_type": "execute_result"
    }
   ],
   "source": [
    "test.apply(lambda row: row[row == 'x'].index, axis=1)"
   ]
  },
  {
   "cell_type": "code",
   "execution_count": null,
   "metadata": {},
   "outputs": [],
   "source": []
  },
  {
   "cell_type": "code",
   "execution_count": null,
   "metadata": {},
   "outputs": [],
   "source": [
    "def expand_info_col(df):"
   ]
  },
  {
   "cell_type": "code",
   "execution_count": null,
   "metadata": {},
   "outputs": [],
   "source": []
  }
 ],
 "metadata": {
  "kernelspec": {
   "display_name": "Python 2",
   "language": "python",
   "name": "python2"
  },
  "language_info": {
   "codemirror_mode": {
    "name": "ipython",
    "version": 2
   },
   "file_extension": ".py",
   "mimetype": "text/x-python",
   "name": "python",
   "nbconvert_exporter": "python",
   "pygments_lexer": "ipython2",
   "version": "2.7.16"
  }
 },
 "nbformat": 4,
 "nbformat_minor": 2
}
