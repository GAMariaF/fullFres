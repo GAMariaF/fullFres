{
 "cells": [
  {
   "cell_type": "code",
   "execution_count": 8,
   "metadata": {},
   "outputs": [],
   "source": [
    "import csv, re\n",
    "import pandas as pd"
   ]
  },
  {
   "cell_type": "code",
   "execution_count": 29,
   "metadata": {},
   "outputs": [
    {
     "name": "stdout",
     "output_type": "stream",
     "text": [
      "FUNC=[{'origPos':'11187893','origRef':'T','normalizedRef':'T','gene':'MTOR','normalizedPos':'11187893','normalizedAlt':'C','gt':'pos','coding':'c.6034-30A>G','transcript':'NM_004958.4','function':'unknown','protein':'p.?','location':'intronic','origAlt':'C'}]\n",
      "FUNC=[{'origPos':'27089638','origRef':'A','normalizedRef':'A','gene':'ARID1A','normalizedPos':'27089638','normalizedAlt':'G','polyphen':'0.0','gt':'pos','codon':'AGC','coding':'c.2594A>G','sift':'0.16','grantham':'46.0','transcript':'NM_006015.6','function':'missense','protein':'p.Asn865Ser','location':'exonic','origAlt':'G','exon':'8'}]\n",
      "VARB=0.0305689\n",
      "FUNC=[{'origPos':'40363054','origRef':'G','normalizedRef':'G','gene':'MYCL','normalizedPos':'40363054','normalizedAlt':'C','polyphen':'0.0','gt':'pos','codon':'AGT','coding':'c.1175C>G','sift':'1.0','grantham':'58.0','transcript':'NM_001033082.3','function':'missense','protein':'p.Thr392Ser','location':'exonic','origAlt':'C','exon':'3'}]\n",
      "FUNC=[{'origPos':'65311214','origRef':'G','normalizedRef':'G','gene':'JAK1','normalizedPos':'65311214','normalizedAlt':'C','gt':'pos','codon':'GCG','coding':'c.2097C>G','transcript':'NM_002227.4','function':'synonymous','protein':'p.Ala699=','location':'exonic','origAlt':'C','exon':'15'}]\n",
      "FUNC=[{'origPos':'120478285','origRef':'T','normalizedRef':'T','gene':'NOTCH2NLC','normalizedPos':'120478285','normalizedAlt':'C','gt':'pos','coding':'c.*7402+53590A>G','transcript':'NM_001364012.2','function':'unknown','protein':'p.?','location':'intronic','origAlt':'C'},{'origPos':'120478285','origRef':'T','normalizedRef':'T','gene':'NOTCH2','normalizedPos':'120478285','normalizedAlt':'C','gt':'pos','coding':'c.3523-58A>G','transcript':'NM_024408.4','function':'unknown','protein':'p.?','location':'intronic','origAlt':'C'}]\n",
      "FUNC=[{'origPos':'120612006','origRef':'G','normalizedRef':'G','gene':'NOTCH2NLC','normalizedPos':'120612006','normalizedAlt':'A','gt':'pos','coding':'c.-39440C>T','transcript':'NM_001364012.2','function':'unknown','protein':'p.?','location':'utr_5','origAlt':'A','exon':'1'},{'origPos':'120612006','origRef':'G','normalizedRef':'G','gene':'NOTCH2','normalizedPos':'120612006','normalizedAlt':'A','gt':'pos','codon':'CGT','coding':'c.15C>T','transcript':'NM_024408.4','function':'synonymous','protein':'p.Arg5=','location':'exonic','origAlt':'A','exon':'1'},{'transcript':'NR_157049.1','gene':'NOTCH2NLR','location':'exonic_nc','exon':'1'}]\n",
      "FUNC=[{'origPos':'120612040','origRef':'T','normalizedRef':'T','gene':'NOTCH2NLC','normalizedPos':'120612040','normalizedAlt':'TCCTCCGCCGCCG','gt':'pos','coding':'c.-39474A>CGGCGGCGGAGGA','transcript':'NM_001364012.2','function':'unknown','protein':'p.?','location':'utr_5','origAlt':'TCCTCCGCCGCCG','exon':'1'},{'origPos':'120612040','origRef':'T','normalizedRef':'T','gene':'NOTCH2','normalizedPos':'120612040','normalizedAlt':'TCCTCCGCCGCCG','gt':'pos','coding':'c.-20A>CGGCGGCGGAGGA','transcript':'NM_024408.4','function':'unknown','protein':'p.?','location':'utr_5','origAlt':'TCCTCCGCCGCCG','exon':'1'},{'transcript':'NR_157049.1','gene':'NOTCH2NLR','location':'exonic_nc','exon':'1'}]\n",
      "FUNC=[{'origPos':'156785617','origRef':'G','normalizedRef':'G','gene':'SH2D2A','normalizedPos':'156785617','normalizedAlt':'A','gt':'pos','coding':'c.123+181C>T','transcript':'NM_001161441.1','function':'unknown','protein':'p.?','location':'intronic','origAlt':'A','CLNACC1':'380853','CLNSIG1':'Benign','CLNREVSTAT1':'criteria_provided,_single_submitter','CLNID1':'rs1800601'}]\n",
      "FUNC=[{'origPos':'123298158','origRef':'T','normalizedRef':'T','gene':'FGFR2','normalizedPos':'123298158','normalizedAlt':'C','gt':'pos','codon':'GTG','coding':'c.696A>G','transcript':'NM_000141.5','function':'synonymous','protein':'p.Val232=','location':'exonic','origAlt':'C','exon':'6','CLNACC1':'255319','CLNSIG1':'Benign','CLNREVSTAT1':'criteria_provided,_multiple_submitters,_no_conflicts','CLNID1':'rs1047100'}]\n",
      "FUNC=[{'origPos':'69462910','origRef':'G','normalizedRef':'G','gene':'CCND1','normalizedPos':'69462910','normalizedAlt':'A','gt':'pos','codon':'CCA','coding':'c.723G>A','transcript':'NM_053056.3','function':'synonymous','protein':'p.Pro241=','location':'exonic','origAlt':'A','exon':'4','CLNACC1':'13755','CLNSIG1':'risk_factor','CLNREVSTAT1':'no_assertion_criteria_provided','CLNID1':'rs9344'}]\n",
      "VARB=3.87272E-4\n",
      "FUNC=[{'origPos':'94212048','origRef':'C','normalizedRef':'C','gene':'MRE11','normalizedPos':'94212048','normalizedAlt':'T','gt':'pos','coding':'c.403-6G>A','transcript':'NM_005591.4','function':'unknown','protein':'p.?','location':'intronic','origAlt':'T','CLNACC1':'129623','CLNSIG1':'Benign','CLNREVSTAT1':'criteria_provided,_multiple_submitters,_no_conflicts','CLNID1':'rs535801'}]\n",
      "FUNC=[{'origPos':'94225920','origRef':'C','normalizedRef':'C','gene':'MRE11','normalizedPos':'94225920','normalizedAlt':'T','gt':'pos','coding':'c.20+28G>A','transcript':'NM_005591.4','function':'unknown','protein':'p.?','location':'intronic','origAlt':'T','CLNACC1':'259798','CLNSIG1':'Benign','CLNREVSTAT1':'criteria_provided,_single_submitter','CLNID1':'rs497763'}]\n",
      "FUNC=[{'origPos':'108183167','origRef':'A','normalizedRef':'A','gene':'ATM','normalizedPos':'108183167','normalizedAlt':'G','polyphen':'0.0','gt':'pos','codon':'AGT','coding':'c.5948A>G','sift':'0.74','grantham':'46.0','transcript':'NM_000051.3','function':'missense','protein':'p.Asn1983Ser','location':'exonic','origAlt':'G','exon':'40','CLNACC1':'133627','CLNSIG1':'Benign','CLNREVSTAT1':'criteria_provided,_multiple_submitters,_no_conflicts','CLNID1':'rs659243'}]\n",
      "FUNC=[{'origPos':'108196712','origRef':'CATT','normalizedRef':'CATT','gene':'ATM','normalizedPos':'108196712','normalizedAlt':'C','gt':'pos','coding':'c.6808-72_6808-70delATT','transcript':'NM_000051.3','function':'unknown','protein':'p.?','location':'intronic','origAlt':'C','CLNACC1':'633055','CLNSIG1':'Benign','CLNREVSTAT1':'criteria_provided,_single_submitter','CLNID1':'rs3212322'}]\n",
      "FUNC=[{'origPos':'108216415','origRef':'TTAGTTT','normalizedRef':'TTAGTTT','gene':'ATM','normalizedPos':'108216415','normalizedAlt':'T','gt':'pos','coding':'c.8419-54_8419-49delTAGTTT','transcript':'NM_000051.3','function':'unknown','protein':'p.?','location':'intronic','origAlt':'T'}]\n",
      "FUNC=[{'origPos':'108225661','origRef':'A','normalizedRef':'A','gene':'ATM','normalizedPos':'108225661','normalizedAlt':'G','gt':'pos','coding':'c.8850+60A>G','transcript':'NM_000051.3','function':'unknown','protein':'p.?','location':'intronic','origAlt':'G'}]\n",
      "VARB=-9.85828E-4\n",
      "FUNC=[{'origPos':'125525195','origRef':'A','normalizedRef':'A','gene':'CHEK1','normalizedPos':'125525195','normalizedAlt':'G','polyphen':'0.0','gt':'pos','codon':'GTT','coding':'c.1411A>G','sift':'1.0','grantham':'29.0','transcript':'NM_001274.5','function':'missense','protein':'p.Ile471Val','location':'exonic','origAlt':'G','exon':'13','CLNACC1':'496139','CLNSIG1':'Benign','CLNREVSTAT1':'criteria_provided,_single_submitter','CLNID1':'rs506504'}]\n",
      "VARB=-0.001107\n",
      "FUNC=[{'origPos':'4388084','origRef':'C','normalizedRef':'C','gene':'CCND2','normalizedPos':'4388084','normalizedAlt':'G','gt':'pos','codon':'ACG','coding':'c.570C>G','transcript':'NM_001759.4','function':'synonymous','protein':'p.Thr190=','location':'exonic','origAlt':'G','exon':'3','CLNACC1':'380772','CLNSIG1':'Benign','CLNREVSTAT1':'criteria_provided,_single_submitter','CLNID1':'rs3217805'}]\n",
      "FUNC=[{'origPos':'12871099','origRef':'T','normalizedRef':'T','gene':'CDKN1B','normalizedPos':'12871099','normalizedAlt':'G','polyphen':'0.047','gt':'pos','codon':'GGC','coding':'c.326T>G','sift':'0.21','grantham':'109.0','transcript':'NM_004064.4','function':'missense','protein':'p.Val109Gly','location':'exonic','origAlt':'G','exon':'1','CLNACC1':'259226','CLNSIG1':'Benign','CLNREVSTAT1':'criteria_provided,_multiple_submitters,_no_conflicts','CLNID1':'rs2066827'}]\n",
      "FUNC=[{'origPos':'25368449','origRef':'A','normalizedRef':'A','gene':'KRAS','normalizedPos':'25368449','normalizedAlt':'T','polyphen':'0.005','gt':'pos','codon':'AAC','coding':'c.496T>A','sift':'0.03','grantham':'143.0','transcript':'NM_033360.4','function':'missense','protein':'p.Tyr166Asn','location':'exonic','origAlt':'T','exon':'5','CLNACC1':'46539','CLNSIG1':'Likely_benign','CLNREVSTAT1':'criteria_provided,_single_submitter','CLNID1':'rs397517476'}]\n",
      "FUNC=[{'origPos':'25368462','origRef':'C','normalizedRef':'C','gene':'KRAS','normalizedPos':'25368462','normalizedAlt':'T','gt':'pos','codon':'AGA','coding':'c.483G>A','transcript':'NM_033360.4','function':'synonymous','protein':'p.Arg161=','location':'exonic','origAlt':'T','exon':'5','CLNACC1':'46538','CLNSIG1':'Benign','CLNREVSTAT1':'criteria_provided,_multiple_submitters,_no_conflicts','CLNID1':'rs4362222'}]\n",
      "VCFALT=ATC\n",
      "FUNC=[{'origPos':'56477694','origRef':'A','normalizedRef':'A','gene':'ERBB3','normalizedPos':'56477694','normalizedAlt':'T','gt':'pos','coding':'c.234+8A>T','transcript':'NM_001982.4','function':'unknown','protein':'p.?','location':'intronic','origAlt':'T'}]\n",
      "FUNC=[{'origPos':'121426545','origRef':'G','normalizedRef':'G','gene':'HNF1A','normalizedPos':'121426545','normalizedAlt':'A','gt':'pos','coding':'c.327-91G>A','transcript':'NM_000545.8','function':'unknown','protein':'p.?','location':'intronic','origAlt':'A'}]\n",
      "FUNC=[{'origPos':'133202215','origRef':'G','normalizedRef':'G','gene':'POLE','normalizedPos':'133202215','normalizedAlt':'A','gt':'pos','coding':'c.6657+16C>T','transcript':'NM_006231.4','function':'unknown','protein':'p.?','location':'intronic','origAlt':'A','CLNACC1':'371835','CLNSIG1':'Benign','CLNREVSTAT1':'criteria_provided,_multiple_submitters,_no_conflicts','CLNID1':'rs5745075'}]\n",
      "FUNC=[{'origPos':'133208886','origRef':'C','normalizedRef':'C','gene':'POLE','normalizedPos':'133208886','normalizedAlt':'T','gt':'pos','coding':'c.6330+15G>A','transcript':'NM_006231.4','function':'unknown','protein':'p.?','location':'intronic','origAlt':'T','CLNACC1':'380218','CLNSIG1':'Benign','CLNREVSTAT1':'criteria_provided,_multiple_submitters,_no_conflicts','CLNID1':'rs5745023'}]\n",
      "FUNC=[{'origPos':'133208979','origRef':'T','normalizedRef':'T','gene':'POLE','normalizedPos':'133208979','normalizedAlt':'C','gt':'pos','codon':'TCG','coding':'c.6252A>G','transcript':'NM_006231.4','function':'synonymous','protein':'p.Ser2084=','location':'exonic','origAlt':'C','exon':'45','CLNACC1':'380217','CLNSIG1':'Benign','CLNREVSTAT1':'criteria_provided,_multiple_submitters,_no_conflicts','CLNID1':'rs5745022'}]\n",
      "FUNC=[{'origPos':'133210985','origRef':'C','normalizedRef':'C','gene':'POLE','normalizedPos':'133210985','normalizedAlt':'T','gt':'pos','coding':'c.5812-21G>A','transcript':'NM_006231.4','function':'unknown','protein':'p.?','location':'intronic','origAlt':'T','CLNACC1':'676506','CLNSIG1':'Benign','CLNREVSTAT1':'criteria_provided,_single_submitter'}]\n",
      "FUNC=[{'origPos':'133214768','origRef':'A','normalizedRef':'A','gene':'POLE','normalizedPos':'133214768','normalizedAlt':'G','gt':'pos','coding':'c.5553-43T>C','transcript':'NM_006231.4','function':'unknown','protein':'p.?','location':'intronic','origAlt':'G','CLNACC1':'676501','CLNSIG1':'Benign','CLNREVSTAT1':'criteria_provided,_single_submitter'}]\n",
      "FUNC=[{'origPos':'133218724','origRef':'C','normalizedRef':'C','gene':'POLE','normalizedPos':'133218724','normalizedAlt':'T','gt':'pos','coding':'c.5173+39G>A','transcript':'NM_006231.4','function':'unknown','protein':'p.?','location':'intronic','origAlt':'T'}]\n",
      "FUNC=[{'origPos':'133219831','origRef':'T','normalizedRef':'T','gene':'POLE','normalizedPos':'133219831','normalizedAlt':'C','gt':'pos','codon':'GCG','coding':'c.4530A>G','transcript':'NM_006231.4','function':'synonymous','protein':'p.Ala1510=','location':'exonic','origAlt':'C','exon':'35','CLNACC1':'380214','CLNSIG1':'Benign','CLNREVSTAT1':'criteria_provided,_multiple_submitters,_no_conflicts','CLNID1':'rs5744944'}]\n",
      "FUNC=[{'origPos':'133225446','origRef':'G','normalizedRef':'G','gene':'POLE','normalizedPos':'133225446','normalizedAlt':'T','gt':'pos','coding':'c.4149+69C>A','transcript':'NM_006231.4','function':'unknown','protein':'p.?','location':'intronic','origAlt':'T'}]\n",
      "FUNC=[{'origPos':'133226159','origRef':'T','normalizedRef':'T','gene':'POLE','normalizedPos':'133226159','normalizedAlt':'C','gt':'pos','coding':'c.3796-58A>G','transcript':'NM_006231.4','function':'unknown','protein':'p.?','location':'intronic','origAlt':'C','CLNACC1':'676494','CLNSIG1':'Benign','CLNREVSTAT1':'criteria_provided,_single_submitter'}]\n",
      "VARB=0.00218051\n",
      "FUNC=[{'origPos':'133236000','origRef':'C','normalizedRef':'C','gene':'POLE','normalizedPos':'133236000','normalizedAlt':'T','gt':'pos','codon':'ACA','coding':'c.3156G>A','transcript':'NM_006231.4','function':'synonymous','protein':'p.Thr1052=','location':'exonic','origAlt':'T','exon':'26','CLNACC1':'380212','CLNSIG1':'Benign','CLNREVSTAT1':'criteria_provided,_multiple_submitters,_no_conflicts','CLNID1':'rs5744857'}]\n",
      "FUNC=[{'origPos':'133238076','origRef':'T','normalizedRef':'T','gene':'POLE','normalizedPos':'133238076','normalizedAlt':'C','gt':'pos','coding':'c.2864+37A>G','transcript':'NM_006231.4','function':'unknown','protein':'p.?','location':'intronic','origAlt':'C'}]\n",
      "FUNC=[{'origPos':'133250118','origRef':'C','normalizedRef':'C','gene':'POLE','normalizedPos':'133250118','normalizedAlt':'T','gt':'pos','coding':'c.1359+43G>A','transcript':'NM_006231.4','function':'unknown','protein':'p.?','location':'intronic','origAlt':'T'}]\n",
      "FUNC=[{'origPos':'28636084','origRef':'G','normalizedRef':'G','gene':'FLT3','normalizedPos':'28636084','normalizedAlt':'A','gt':'pos','codon':'GAT','coding':'c.288C>T','transcript':'NM_004119.3','function':'synonymous','protein':'p.Asp96=','location':'exonic','origAlt':'A','exon':'3'}]\n",
      "FUNC=[{'origPos':'32903685','origRef':'C','normalizedRef':'C','gene':'BRCA2','normalizedPos':'32903685','normalizedAlt':'T','gt':'pos','coding':'c.681+56C>T','transcript':'NM_000059.3','function':'unknown','protein':'p.?','location':'intronic','origAlt':'T','CLNACC1':'126192','CLNSIG1':'Benign','CLNREVSTAT1':'reviewed_by_expert_panel','CLNID1':'rs2126042'}]\n",
      "FUNC=[{'origPos':'32912008','origRef':'G','normalizedRef':'G','gene':'BRCA2','normalizedPos':'32912008','normalizedAlt':'A','gt':'pos','codon':'TCA','coding':'c.3516G>A','transcript':'NM_000059.3','function':'synonymous','protein':'p.Ser1172=','location':'exonic','origAlt':'A','exon':'11','CLNACC1':'51481','CLNSIG1':'Benign','CLNREVSTAT1':'reviewed_by_expert_panel','CLNID1':'rs1799952'}]\n",
      "FUNC=[{'origPos':'32912299','origRef':'T','normalizedRef':'T','gene':'BRCA2','normalizedPos':'32912299','normalizedAlt':'C','gt':'pos','codon':'GTC','coding':'c.3807T>C','transcript':'NM_000059.3','function':'synonymous','protein':'p.Val1269=','location':'exonic','origAlt':'C','exon':'11','CLNACC1':'126022','CLNSIG1':'Benign','CLNREVSTAT1':'reviewed_by_expert_panel','CLNID1':'rs543304'}]\n",
      "FUNC=[{'origPos':'32913055','origRef':'A','normalizedRef':'A','gene':'BRCA2','normalizedPos':'32913055','normalizedAlt':'G','gt':'pos','codon':'CTG','coding':'c.4563A>G','transcript':'NM_000059.3','function':'synonymous','protein':'p.Leu1521=','location':'exonic','origAlt':'G','exon':'11','CLNACC1':'132779','CLNSIG1':'Benign','CLNREVSTAT1':'reviewed_by_expert_panel','CLNID1':'rs206075'}]\n",
      "FUNC=[{'origPos':'32915005','origRef':'G','normalizedRef':'G','gene':'BRCA2','normalizedPos':'32915005','normalizedAlt':'C','gt':'pos','codon':'GTC','coding':'c.6513G>C','transcript':'NM_000059.3','function':'synonymous','protein':'p.Val2171=','location':'exonic','origAlt':'C','exon':'11','CLNACC1':'132780','CLNSIG1':'Benign','CLNREVSTAT1':'reviewed_by_expert_panel','CLNID1':'rs206076'}]\n",
      "FUNC=[{'origPos':'32929387','origRef':'T','normalizedRef':'T','gene':'BRCA2','normalizedPos':'32929387','normalizedAlt':'C','polyphen':'0.0','gt':'pos','codon':'GCA','coding':'c.7397T>C','sift':'1.0','grantham':'64.0','transcript':'NM_000059.3','function':'missense','protein':'p.Val2466Ala','location':'exonic','origAlt':'C','exon':'14','CLNACC1':'133738','CLNSIG1':'Benign','CLNREVSTAT1':'criteria_provided,_multiple_submitters,_no_conflicts','CLNID1':'rs169547'}]\n",
      "FUNC=[{'origPos':'32936646','origRef':'T','normalizedRef':'T','gene':'BRCA2','normalizedPos':'32936646','normalizedAlt':'C','gt':'pos','coding':'c.7806-14T>C','transcript':'NM_000059.3','function':'unknown','protein':'p.?','location':'intronic','origAlt':'C','CLNACC1':'126158','CLNSIG1':'Benign','CLNREVSTAT1':'reviewed_by_expert_panel','CLNID1':'rs9534262'}]\n",
      "FUNC=[{'origPos':'32953388','origRef':'T','normalizedRef':'T','gene':'BRCA2','normalizedPos':'32953388','normalizedAlt':'C','gt':'pos','coding':'c.8755-66T>C','transcript':'NM_000059.3','function':'unknown','protein':'p.?','location':'intronic','origAlt':'C','CLNACC1':'126190','CLNSIG1':'Benign','CLNREVSTAT1':'reviewed_by_expert_panel','CLNID1':'rs4942486'}]\n",
      "VARB=4.82672E-7\n",
      "FUNC=[{'origPos':'68290372','origRef':'T','normalizedRef':'T','gene':'RAD51B','normalizedPos':'68290372','normalizedAlt':'G','gt':'pos','coding':'c.84+28T>G','transcript':'NM_133509.4','function':'unknown','protein':'p.?','location':'intronic','origAlt':'G'}]\n",
      "FUNC=[{'origPos':'68301764','origRef':'G','normalizedRef':'G','gene':'RAD51B','normalizedPos':'68301764','normalizedAlt':'T','gt':'pos','coding':'c.199-33G>T','transcript':'NM_133509.4','function':'unknown','protein':'p.?','location':'intronic','origAlt':'T'}]\n",
      "FUNC=[{'origPos':'40998342','origRef':'T','normalizedRef':'T','gene':'RAD51','normalizedPos':'40998342','normalizedAlt':'G','gt':'pos','coding':'c.347-2881T>G','transcript':'NM_133487.4','function':'unknown','protein':'p.?','location':'intronic','origAlt':'G'}]\n",
      "FUNC=[{'origPos':'89804043','origRef':'C','normalizedRef':'C','gene':'FANCI','normalizedPos':'89804043','normalizedAlt':'T','polyphen':'0.191','gt':'pos','codon':'GTG','coding':'c.257C>T','sift':'0.25','grantham':'64.0','transcript':'NM_001113378.2','function':'missense','protein':'p.Ala86Val','location':'exonic','origAlt':'T','exon':'4','CLNACC1':'257484','CLNSIG1':'Benign','CLNREVSTAT1':'criteria_provided,_multiple_submitters,_no_conflicts','CLNID1':'rs17803620'}]\n",
      "FUNC=[{'origPos':'89806710','origRef':'C','normalizedRef':'C','gene':'FANCI','normalizedPos':'89806710','normalizedAlt':'T','gt':'pos','coding':'c.545+19C>T','transcript':'NM_001113378.2','function':'unknown','protein':'p.?','location':'intronic','origAlt':'T','CLNACC1':'257490','CLNSIG1':'Benign','CLNREVSTAT1':'criteria_provided,_single_submitter','CLNID1':'rs1981623'}]\n",
      "FUNC=[{'origPos':'89806721','origRef':'G','normalizedRef':'G','gene':'FANCI','normalizedPos':'89806721','normalizedAlt':'A','gt':'pos','coding':'c.545+30G>A','transcript':'NM_001113378.2','function':'unknown','protein':'p.?','location':'intronic','origAlt':'A','CLNACC1':'257491','CLNSIG1':'Benign','CLNREVSTAT1':'criteria_provided,_single_submitter','CLNID1':'rs1981624'}]\n",
      "FUNC=[{'origPos':'89826496','origRef':'C','normalizedRef':'C','gene':'FANCI','normalizedPos':'89826496','normalizedAlt':'T','gt':'pos','coding':'c.1698+15C>T','transcript':'NM_001113378.2','function':'unknown','protein':'p.?','location':'intronic','origAlt':'T','CLNACC1':'257481','CLNSIG1':'Benign','CLNREVSTAT1':'criteria_provided,_multiple_submitters,_no_conflicts','CLNID1':'rs9806604'}]\n",
      "FUNC=[{'origPos':'89836228','origRef':'G','normalizedRef':'G','gene':'FANCI','normalizedPos':'89836228','normalizedAlt':'C','polyphen':'0.007','gt':'pos','codon':'TCT','coding':'c.2225G>C','sift':'0.04','grantham':'112.0','transcript':'NM_001113378.2','function':'missense','protein':'p.Cys742Ser','location':'exonic','origAlt':'C','exon':'22','CLNACC1':'257482','CLNSIG1':'Benign','CLNREVSTAT1':'criteria_provided,_multiple_submitters,_no_conflicts','CLNID1':'rs2283432'}]\n",
      "FUNC=[{'origPos':'89844688','origRef':'A','normalizedRef':'A','gene':'FANCI','normalizedPos':'89844688','normalizedAlt':'C','gt':'pos','coding':'c.3006+15A>C','transcript':'NM_001113378.2','function':'unknown','protein':'p.?','location':'intronic','origAlt':'C','CLNACC1':'257487','CLNSIG1':'Benign','CLNREVSTAT1':'criteria_provided,_multiple_submitters,_no_conflicts','CLNID1':'rs2159081'}]\n",
      "FUNC=[{'origPos':'89858602','origRef':'T','normalizedRef':'T','gene':'FANCI','normalizedPos':'89858602','normalizedAlt':'C','gt':'pos','codon':'GGC','coding':'c.3906T>C','transcript':'NM_001113378.2','function':'synonymous','protein':'p.Gly1302=','location':'exonic','origAlt':'C','exon':'37','CLNACC1':'257489','CLNSIG1':'Benign/Likely_benign','CLNREVSTAT1':'criteria_provided,_multiple_submitters,_no_conflicts','CLNID1':'rs1138465'}]\n",
      "FUNC=[{'origPos':'2103242','origRef':'C','normalizedRef':'C','gene':'TSC2','normalizedPos':'2103242','normalizedAlt':'T','gt':'pos','coding':'c.226-101C>T','transcript':'NM_000548.5','function':'unknown','protein':'p.?','location':'intronic','origAlt':'T'}]\n",
      "FUNC=[{'origPos':'2105400','origRef':'C','normalizedRef':'C','gene':'TSC2','normalizedPos':'2105400','normalizedAlt':'T','gt':'pos','coding':'c.482-3C>T','transcript':'NM_000548.5','function':'unknown','protein':'p.?','location':'splicesite_3','origAlt':'T','exon':'6','CLNACC1':'49957','CLNSIG1':'Benign','CLNREVSTAT1':'criteria_provided,_multiple_submitters,_no_conflicts','CLNID1':'rs1800720'}]\n",
      "FUNC=[{'origPos':'2115481','origRef':'C','normalizedRef':'C','gene':'TSC2','normalizedPos':'2115481','normalizedAlt':'T','gt':'pos','coding':'c.1600-39C>T','transcript':'NM_000548.5','function':'unknown','protein':'p.?','location':'intronic','origAlt':'T','CLNACC1':'49695','CLNSIG1':'Benign','CLNREVSTAT1':'criteria_provided,_multiple_submitters,_no_conflicts','CLNID1':'rs45477195'}]\n",
      "FUNC=[{'origPos':'2129591','origRef':'G','normalizedRef':'G','gene':'TSC2','normalizedPos':'2129591','normalizedAlt':'A','gt':'pos','codon':'AAA','coding':'c.3318G>A','transcript':'NM_000548.5','function':'synonymous','protein':'p.Lys1106=','location':'exonic','origAlt':'A','exon':'29','CLNACC1':'413738','CLNSIG1':'Likely_benign','CLNREVSTAT1':'criteria_provided,_single_submitter','CLNID1':'rs1060504119'}]\n",
      "FUNC=[{'origPos':'2130240','origRef':'C','normalizedRef':'C','gene':'TSC2','normalizedPos':'2130240','normalizedAlt':'T','polyphen':'0.009','gt':'pos','codon':'TCA','coding':'c.3472C>T','sift':'0.37','grantham':'74.0','transcript':'NM_000548.5','function':'missense','protein':'p.Pro1158Ser','location':'exonic','origAlt':'T','exon':'30','CLNACC1':'535966','CLNSIG1':'Uncertain_significance','CLNREVSTAT1':'criteria_provided,_single_submitter','CLNID1':'rs759350468'}]\n",
      "FUNC=[{'origPos':'2138218','origRef':'A','normalizedRef':'A','gene':'TSC2','normalizedPos':'2138218','normalizedAlt':'C','gt':'pos','coding':'c.5161-10A>C','transcript':'NM_000548.5','function':'unknown','protein':'p.?','location':'intronic','origAlt':'C','CLNACC1':'49431','CLNSIG1':'Benign','CLNREVSTAT1':'criteria_provided,_multiple_submitters,_no_conflicts','CLNID1':'rs1800718'},{'origPos':'2138218','origRef':'A','normalizedRef':'A','gene':'PKD1','normalizedPos':'2138218','normalizedAlt':'C','gt':'pos','coding':'c.*1510T>G','transcript':'NM_001009944.3','function':'unknown','protein':'p.?','location':'downstream','origAlt':'C','CLNACC1':'49431','CLNSIG1':'Benign','CLNREVSTAT1':'criteria_provided,_multiple_submitters,_no_conflicts','CLNID1':'rs1800718'}]\n",
      "FUNC=[{'origPos':'2138269','origRef':'T','normalizedRef':'T','gene':'TSC2','normalizedPos':'2138269','normalizedAlt':'C','gt':'pos','codon':'GAC','coding':'c.5202T>C','transcript':'NM_000548.5','function':'synonymous','protein':'p.Asp1734=','location':'exonic','origAlt':'C','exon':'41','CLNACC1':'49895','CLNSIG1':'Benign','CLNREVSTAT1':'criteria_provided,_multiple_submitters,_no_conflicts','CLNID1':'rs1748'},{'origPos':'2138269','origRef':'T','normalizedRef':'T','gene':'PKD1','normalizedPos':'2138269','normalizedAlt':'C','gt':'pos','coding':'c.*1459A>G','transcript':'NM_001009944.3','function':'unknown','protein':'p.?','location':'downstream','origAlt':'C','CLNACC1':'49895','CLNSIG1':'Benign','CLNREVSTAT1':'criteria_provided,_multiple_submitters,_no_conflicts','CLNID1':'rs1748'}]\n",
      "FUNC=[{'origPos':'2138398','origRef':'C','normalizedRef':'C','gene':'TSC2','normalizedPos':'2138398','normalizedAlt':'T','gt':'pos','coding':'c.5260-49C>T','transcript':'NM_000548.5','function':'unknown','protein':'p.?','location':'intronic','origAlt':'T','CLNACC1':'49420','CLNSIG1':'Benign','CLNREVSTAT1':'criteria_provided,_multiple_submitters,_no_conflicts','CLNID1':'rs13332221'},{'origPos':'2138398','origRef':'C','normalizedRef':'C','gene':'PKD1','normalizedPos':'2138398','normalizedAlt':'T','gt':'pos','coding':'c.*1330G>A','transcript':'NM_001009944.3','function':'unknown','protein':'p.?','location':'downstream','origAlt':'T','CLNACC1':'49420','CLNSIG1':'Benign','CLNREVSTAT1':'criteria_provided,_multiple_submitters,_no_conflicts','CLNID1':'rs13332221'}]\n",
      "FUNC=[{'origPos':'2138422','origRef':'C','normalizedRef':'C','gene':'TSC2','normalizedPos':'2138422','normalizedAlt':'G','gt':'pos','coding':'c.5260-25C>G','transcript':'NM_000548.5','function':'unknown','protein':'p.?','location':'intronic','origAlt':'G','CLNACC1':'49976','CLNSIG1':'Benign','CLNREVSTAT1':'criteria_provided,_multiple_submitters,_no_conflicts','CLNID1':'rs13332222'},{'origPos':'2138422','origRef':'C','normalizedRef':'C','gene':'PKD1','normalizedPos':'2138422','normalizedAlt':'G','gt':'pos','coding':'c.*1306G>C','transcript':'NM_001009944.3','function':'unknown','protein':'p.?','location':'downstream','origAlt':'G','CLNACC1':'49976','CLNSIG1':'Benign','CLNREVSTAT1':'criteria_provided,_multiple_submitters,_no_conflicts','CLNID1':'rs13332222'}]\n",
      "SUBSET=.\n",
      "SUBSET=vc.novel.154\n",
      "FUNC=[{'origPos':'23619235','origRef':'A','normalizedRef':'A','gene':'PALB2','normalizedPos':'23619235','normalizedAlt':'C','gt':'pos','codon':'ACG','coding':'c.3300T>G','transcript':'NM_024675.4','function':'synonymous','protein':'p.Thr1100=','location':'exonic','origAlt':'C','exon':'12','CLNACC1':'126730','CLNSIG1':'Benign/Likely_benign','CLNREVSTAT1':'criteria_provided,_multiple_submitters,_no_conflicts','CLNID1':'rs45516100'}]\n",
      "FUNC=[{'origPos':'23634293','origRef':'C','normalizedRef':'C','gene':'PALB2','normalizedPos':'23634293','normalizedAlt':'T','polyphen':'1.0','gt':'pos','codon':'GAA','coding':'c.2993G>A','sift':'0.0','grantham':'98.0','transcript':'NM_024675.4','function':'missense','protein':'p.Gly998Glu','location':'exonic','origAlt':'T','exon':'9','CLNACC1':'126699','CLNSIG1':'Benign/Likely_benign','CLNREVSTAT1':'criteria_provided,_multiple_submitters,_no_conflicts','CLNID1':'rs45551636'}]\n",
      "FUNC=[{'origPos':'23641461','origRef':'C','normalizedRef':'C','gene':'PALB2','normalizedPos':'23641461','normalizedAlt':'G','polyphen':'0.225','gt':'pos','codon':'CAA','coding':'c.2014G>C','sift':'0.02','grantham':'29.0','transcript':'NM_024675.4','function':'missense','protein':'p.Glu672Gln','location':'exonic','origAlt':'G','exon':'5','CLNACC1':'126630','CLNSIG1':'Benign/Likely_benign','CLNREVSTAT1':'criteria_provided,_multiple_submitters,_no_conflicts','CLNID1':'rs45532440'}]\n",
      "FUNC=[{'origPos':'23646191','origRef':'T','normalizedRef':'T','gene':'PALB2','normalizedPos':'23646191','normalizedAlt':'C','polyphen':'0.0','gt':'pos','codon':'CGA','coding':'c.1676A>G','sift':'1.0','grantham':'43.0','transcript':'NM_024675.4','function':'missense','protein':'p.Gln559Arg','location':'exonic','origAlt':'C','exon':'4','CLNACC1':'126613','CLNSIG1':'Benign/Likely_benign','CLNREVSTAT1':'criteria_provided,_multiple_submitters,_no_conflicts','CLNID1':'rs152451'}]\n",
      "FUNC=[{'origPos':'23647713','origRef':'T','normalizedRef':'T','gene':'PALB2','normalizedPos':'23647713','normalizedAlt':'G','gt':'pos','coding':'c.212-58A>C','transcript':'NM_024675.4','function':'unknown','protein':'p.?','location':'intronic','origAlt':'G','CLNACC1':'126635','CLNSIG1':'Benign/Likely_benign','CLNREVSTAT1':'criteria_provided,_multiple_submitters,_no_conflicts'}]\n",
      "FUNC=[{'origPos':'89805794','origRef':'A','normalizedRef':'A','gene':'ZNF276','normalizedPos':'89805794','normalizedAlt':'G','gt':'pos','coding':'c.*1140A>G','transcript':'NM_001113525.2','function':'unknown','protein':'p.?','location':'utr_3','origAlt':'G','exon':'11'},{'origPos':'89805794','origRef':'A','normalizedRef':'A','gene':'FANCA','normalizedPos':'89805794','normalizedAlt':'G','gt':'pos','coding':'c.4010+92T>C','transcript':'NM_000135.4','function':'unknown','protein':'p.?','location':'intronic','origAlt':'G'}]\n",
      "FUNC=[{'origPos':'89805914','origRef':'T','normalizedRef':'T','gene':'ZNF276','normalizedPos':'89805914','normalizedAlt':'C','gt':'pos','coding':'c.*1260T>C','transcript':'NM_001113525.2','function':'unknown','protein':'p.?','location':'utr_3','origAlt':'C','exon':'11','CLNACC1':'134278','CLNSIG1':'Benign/Likely_benign','CLNREVSTAT1':'criteria_provided,_multiple_submitters,_no_conflicts','CLNID1':'rs9282681'},{'origPos':'89805914','origRef':'T','normalizedRef':'T','gene':'FANCA','normalizedPos':'89805914','normalizedAlt':'C','polyphen':'0.005','gt':'pos','codon':'GCC','coding':'c.3982A>G','sift':'0.37','grantham':'58.0','transcript':'NM_000135.4','function':'missense','protein':'p.Thr1328Ala','location':'exonic','origAlt':'C','exon':'40','CLNACC1':'134278','CLNSIG1':'Benign/Likely_benign','CLNREVSTAT1':'criteria_provided,_multiple_submitters,_no_conflicts','CLNID1':'rs9282681'}]\n",
      "FUNC=[{'origPos':'89807131','origRef':'C','normalizedRef':'C','gene':'ZNF276','normalizedPos':'89807131','normalizedAlt':'A','gt':'pos','coding':'c.*2477C>A','transcript':'NM_001113525.2','function':'unknown','protein':'p.?','location':'utr_3','origAlt':'A','exon':'11'},{'origPos':'89807131','origRef':'C','normalizedRef':'C','gene':'FANCA','normalizedPos':'89807131','normalizedAlt':'A','gt':'pos','coding':'c.3828+81G>T','transcript':'NM_000135.4','function':'unknown','protein':'p.?','location':'intronic','origAlt':'A'}]\n",
      "FUNC=[{'origPos':'89807233','origRef':'C','normalizedRef':'C','gene':'ZNF276','normalizedPos':'89807233','normalizedAlt':'G','gt':'pos','coding':'c.*2579C>G','transcript':'NM_001113525.2','function':'unknown','protein':'p.?','location':'utr_3','origAlt':'G','exon':'11','CLNACC1':'255263','CLNSIG1':'Benign/Likely_benign','CLNREVSTAT1':'criteria_provided,_multiple_submitters,_no_conflicts','CLNID1':'rs11649210'},{'origPos':'89807233','origRef':'C','normalizedRef':'C','gene':'FANCA','normalizedPos':'89807233','normalizedAlt':'G','gt':'pos','codon':'CTC','coding':'c.3807G>C','transcript':'NM_000135.4','function':'synonymous','protein':'p.Leu1269=','location':'exonic','origAlt':'G','exon':'38','CLNACC1':'255263','CLNSIG1':'Benign/Likely_benign','CLNREVSTAT1':'criteria_provided,_multiple_submitters,_no_conflicts','CLNID1':'rs11649210'}]\n",
      "FUNC=[{'origPos':'89809171','origRef':'C','normalizedRef':'C','gene':'FANCA','normalizedPos':'89809171','normalizedAlt':'T','gt':'pos','coding':'c.3765+37G>A','transcript':'NM_000135.4','function':'unknown','protein':'p.?','location':'intronic','origAlt':'T','CLNACC1':'255262','CLNSIG1':'Benign','CLNREVSTAT1':'criteria_provided,_single_submitter','CLNID1':'rs34420680'}]\n",
      "FUNC=[{'origPos':'89809319','origRef':'T','normalizedRef':'T','gene':'FANCA','normalizedPos':'89809319','normalizedAlt':'C','gt':'pos','codon':'CCG','coding':'c.3654A>G','transcript':'NM_000135.4','function':'synonymous','protein':'p.Pro1218=','location':'exonic','origAlt':'C','exon':'37','CLNACC1':'255261','CLNSIG1':'Benign/Likely_benign','CLNREVSTAT1':'criteria_provided,_multiple_submitters,_no_conflicts','CLNID1':'rs1800358'}]\n",
      "FUNC=[{'origPos':'89812930','origRef':'G','normalizedRef':'G','gene':'FANCA','normalizedPos':'89812930','normalizedAlt':'A','gt':'pos','coding':'c.3513+62C>T','transcript':'NM_000135.4','function':'unknown','protein':'p.?','location':'intronic','origAlt':'A'}]\n",
      "FUNC=[{'origPos':'89813194','origRef':'C','normalizedRef':'C','gene':'FANCA','normalizedPos':'89813194','normalizedAlt':'T','gt':'pos','coding':'c.3408+45G>A','transcript':'NM_000135.4','function':'unknown','protein':'p.?','location':'intronic','origAlt':'T','CLNACC1':'255259','CLNSIG1':'Benign','CLNREVSTAT1':'criteria_provided,_single_submitter','CLNID1':'rs1800355'}]\n",
      "FUNC=[{'origPos':'89815152','origRef':'G','normalizedRef':'G','gene':'FANCA','normalizedPos':'89815152','normalizedAlt':'A','polyphen':'0.933','gt':'pos','codon':'TTT','coding':'c.3263C>T','sift':'0.02','grantham':'155.0','transcript':'NM_000135.4','function':'missense','protein':'p.Ser1088Phe','location':'exonic','origAlt':'A','exon':'33','CLNACC1':'134264','CLNSIG1':'Benign/Likely_benign','CLNREVSTAT1':'criteria_provided,_multiple_submitters,_no_conflicts','CLNID1':'rs17233497'}]\n",
      "FUNC=[{'origPos':'89816333','origRef':'C','normalizedRef':'C','gene':'FANCA','normalizedPos':'89816333','normalizedAlt':'T','gt':'pos','coding':'c.3067-23G>A','transcript':'NM_000135.4','function':'unknown','protein':'p.?','location':'intronic','origAlt':'T','CLNACC1':'255252','CLNSIG1':'Benign','CLNREVSTAT1':'criteria_provided,_single_submitter','CLNID1':'rs17227057'}]\n",
      "FUNC=[{'origPos':'89816367','origRef':'T','normalizedRef':'T','gene':'FANCA','normalizedPos':'89816367','normalizedAlt':'G','gt':'pos','coding':'c.3067-57A>C','transcript':'NM_000135.4','function':'unknown','protein':'p.?','location':'intronic','origAlt':'G'}]\n",
      "FUNC=[{'origPos':'89825065','origRef':'G','normalizedRef':'G','gene':'FANCA','normalizedPos':'89825065','normalizedAlt':'A','gt':'pos','codon':'TCT','coding':'c.2901C>T','transcript':'NM_000135.4','function':'synonymous','protein':'p.Ser967=','location':'exonic','origAlt':'A','exon':'30','CLNACC1':'255251','CLNSIG1':'Benign/Likely_benign','CLNREVSTAT1':'criteria_provided,_multiple_submitters,_no_conflicts','CLNID1':'rs17226980'}]\n",
      "FUNC=[{'origPos':'89828437','origRef':'A','normalizedRef':'A','gene':'FANCA','normalizedPos':'89828437','normalizedAlt':'G','gt':'pos','coding':'c.2779-7T>C','transcript':'NM_000135.4','function':'unknown','protein':'p.?','location':'intronic','origAlt':'G','CLNACC1':'255250','CLNSIG1':'Benign/Likely_benign','CLNREVSTAT1':'criteria_provided,_multiple_submitters,_no_conflicts','CLNID1':'rs17233253'}]\n",
      "FUNC=[{'origPos':'89831215','origRef':'G','normalizedRef':'G','gene':'FANCA','normalizedPos':'89831215','normalizedAlt':'A','gt':'pos','coding':'c.2778+83C>T','transcript':'NM_000135.4','function':'unknown','protein':'p.?','location':'intronic','origAlt':'A'}]\n",
      "FUNC=[{'origPos':'89831243','origRef':'C','normalizedRef':'C','gene':'FANCA','normalizedPos':'89831243','normalizedAlt':'A','gt':'pos','coding':'c.2778+55G>T','transcript':'NM_000135.4','function':'unknown','protein':'p.?','location':'intronic','origAlt':'A'}]\n",
      "FUNC=[{'origPos':'89831510','origRef':'C','normalizedRef':'C','gene':'FANCA','normalizedPos':'89831510','normalizedAlt':'A','gt':'pos','coding':'c.2602-36G>T','transcript':'NM_000135.4','function':'unknown','protein':'p.?','location':'intronic','origAlt':'A','CLNACC1':'255248','CLNSIG1':'Benign','CLNREVSTAT1':'criteria_provided,_single_submitter','CLNID1':'rs2159116'}]\n",
      "FUNC=[{'origPos':'89831520','origRef':'A','normalizedRef':'A','gene':'FANCA','normalizedPos':'89831520','normalizedAlt':'T','gt':'pos','coding':'c.2602-46T>A','transcript':'NM_000135.4','function':'unknown','protein':'p.?','location':'intronic','origAlt':'T','CLNACC1':'255249','CLNSIG1':'Benign','CLNREVSTAT1':'criteria_provided,_single_submitter','CLNID1':'rs11076620'}]\n",
      "FUNC=[{'origPos':'89831558','origRef':'C','normalizedRef':'C','gene':'FANCA','normalizedPos':'89831558','normalizedAlt':'T','gt':'pos','coding':'c.2602-84G>A','transcript':'NM_000135.4','function':'unknown','protein':'p.?','location':'intronic','origAlt':'T'}]\n",
      "FUNC=[{'origPos':'89836323','origRef':'C','normalizedRef':'C','gene':'FANCA','normalizedPos':'89836323','normalizedAlt':'T','polyphen':'0.0','gt':'pos','codon':'GAT','coding':'c.2426G>A','sift':'0.28','grantham':'94.0','transcript':'NM_000135.4','function':'missense','protein':'p.Gly809Asp','location':'exonic','origAlt':'T','exon':'26','CLNACC1':'134254','CLNSIG1':'Benign','CLNREVSTAT1':'criteria_provided,_multiple_submitters,_no_conflicts','CLNID1':'rs7195066'}]\n",
      "FUNC=[{'origPos':'89836507','origRef':'T','normalizedRef':'T','gene':'FANCA','normalizedPos':'89836507','normalizedAlt':'C','gt':'pos','coding':'c.2316+67A>G','transcript':'NM_000135.4','function':'unknown','protein':'p.?','location':'intronic','origAlt':'C'}]\n",
      "FUNC=[{'origPos':'89836899','origRef':'T','normalizedRef':'T','gene':'FANCA','normalizedPos':'89836899','normalizedAlt':'C','gt':'pos','coding':'c.2222+73A>G','transcript':'NM_000135.4','function':'unknown','protein':'p.?','location':'intronic','origAlt':'C'}]\n",
      "FUNC=[{'origPos':'89839637','origRef':'C','normalizedRef':'C','gene':'FANCA','normalizedPos':'89839637','normalizedAlt':'A','gt':'pos','coding':'c.2014+42G>T','transcript':'NM_000135.4','function':'unknown','protein':'p.?','location':'intronic','origAlt':'A'}]\n",
      "FUNC=[{'origPos':'89839766','origRef':'G','normalizedRef':'G','gene':'FANCA','normalizedPos':'89839766','normalizedAlt':'C','polyphen':'0.001','gt':'pos','codon':'GCC','coding':'c.1927C>G','sift':'0.52','grantham':'27.0','transcript':'NM_000135.4','function':'missense','protein':'p.Pro643Ala','location':'exonic','origAlt':'C','exon':'22','CLNACC1':'134247','CLNSIG1':'Benign/Likely_benign','CLNREVSTAT1':'criteria_provided,_multiple_submitters,_no_conflicts','CLNID1':'rs17232910'}]\n",
      "FUNC=[{'origPos':'89845179','origRef':'A','normalizedRef':'A','gene':'FANCA','normalizedPos':'89845179','normalizedAlt':'ACA','gt':'pos','coding':'c.1826+29_1826+30insTG','transcript':'NM_000135.4','function':'unknown','protein':'p.?','location':'intronic','origAlt':'ACA'}]\n",
      "FUNC=[{'origPos':'89845194','origRef':'A','normalizedRef':'A','gene':'FANCA','normalizedPos':'89845194','normalizedAlt':'G','gt':'pos','coding':'c.1826+15T>C','transcript':'NM_000135.4','function':'unknown','protein':'p.?','location':'intronic','origAlt':'G','CLNACC1':'255241','CLNSIG1':'Benign','CLNREVSTAT1':'criteria_provided,_multiple_submitters,_no_conflicts','CLNID1':'rs1800337'}]\n",
      "FUNC=[{'origPos':'89849480','origRef':'C','normalizedRef':'C','gene':'FANCA','normalizedPos':'89849480','normalizedAlt':'T','polyphen':'0.0','gt':'pos','codon':'AGC','coding':'c.1501G>A','sift':'1.0','grantham':'56.0','transcript':'NM_000135.4','function':'missense','protein':'p.Gly501Ser','location':'exonic','origAlt':'T','exon':'16','CLNACC1':'134244','CLNSIG1':'Benign','CLNREVSTAT1':'criteria_provided,_multiple_submitters,_no_conflicts','CLNID1':'rs2239359'}]\n",
      "FUNC=[{'origPos':'89857935','origRef':'G','normalizedRef':'G','gene':'FANCA','normalizedPos':'89857935','normalizedAlt':'A','polyphen':'0.952','gt':'pos','codon':'GTG','coding':'c.1235C>T','sift':'0.01','grantham':'64.0','transcript':'NM_000135.4','function':'missense','protein':'p.Ala412Val','location':'exonic','origAlt':'A','exon':'14','CLNACC1':'134242','CLNSIG1':'Benign/Likely_benign','CLNREVSTAT1':'criteria_provided,_multiple_submitters,_no_conflicts','CLNID1':'rs11646374'}]\n",
      "FUNC=[{'origPos':'89858024','origRef':'A','normalizedRef':'A','gene':'FANCA','normalizedPos':'89858024','normalizedAlt':'G','gt':'pos','coding':'c.1226-80T>C','transcript':'NM_000135.4','function':'unknown','protein':'p.?','location':'intronic','origAlt':'G'}]\n",
      "FUNC=[{'origPos':'89858417','origRef':'C','normalizedRef':'C','gene':'FANCA','normalizedPos':'89858417','normalizedAlt':'A','gt':'pos','codon':'ACT','coding':'c.1143G>T','transcript':'NM_000135.4','function':'synonymous','protein':'p.Thr381=','location':'exonic','origAlt':'A','exon':'13','CLNACC1':'255231','CLNSIG1':'Benign/Likely_benign','CLNREVSTAT1':'criteria_provided,_multiple_submitters,_no_conflicts','CLNID1':'rs1800331'}]\n",
      "FUNC=[{'origPos':'89862434','origRef':'T','normalizedRef':'T','gene':'FANCA','normalizedPos':'89862434','normalizedAlt':'C','gt':'pos','coding':'c.894-8A>G','transcript':'NM_000135.4','function':'unknown','protein':'p.?','location':'intronic','origAlt':'C','CLNACC1':'255270','CLNSIG1':'Benign/Likely_benign','CLNREVSTAT1':'criteria_provided,_multiple_submitters,_no_conflicts','CLNID1':'rs11648881'}]\n",
      "FUNC=[{'origPos':'89866043','origRef':'T','normalizedRef':'T','gene':'FANCA','normalizedPos':'89866043','normalizedAlt':'C','polyphen':'0.0','gt':'pos','codon':'GCG','coding':'c.796A>G','sift':'0.91','grantham':'58.0','transcript':'NM_000135.4','function':'missense','protein':'p.Thr266Ala','location':'exonic','origAlt':'C','exon':'9','CLNACC1':'134294','CLNSIG1':'Benign','CLNREVSTAT1':'criteria_provided,_multiple_submitters,_no_conflicts','CLNID1':'rs7190823'}]\n",
      "VARB=4.41586E-4\n",
      "FUNC=[{'origPos':'89877269','origRef':'T','normalizedRef':'T','gene':'FANCA','normalizedPos':'89877269','normalizedAlt':'C','gt':'pos','coding':'c.427-59A>G','transcript':'NM_000135.4','function':'unknown','protein':'p.?','location':'intronic','origAlt':'C'}]\n",
      "FUNC=[{'origPos':'7579472','origRef':'G','normalizedRef':'G','gene':'TP53','normalizedPos':'7579472','normalizedAlt':'C','polyphen':'0.083','gt':'pos','codon':'CGC','coding':'c.215C>G','sift':'0.11','grantham':'103.0','transcript':'NM_000546.5','function':'missense','protein':'p.Pro72Arg','location':'exonic','origAlt':'C','exon':'4','CLNACC1':'12351','CLNSIG1':'drug_response','CLNREVSTAT1':'reviewed_by_expert_panel','CLNID1':'rs1042522'}]\n",
      "FUNC=[{'origPos':'29508775','origRef':'G','normalizedRef':'G','gene':'NF1','normalizedPos':'29508775','normalizedAlt':'A','gt':'pos','codon':'CTA','coding':'c.702G>A','transcript':'NM_001042492.3','function':'synonymous','protein':'p.Leu234=','location':'exonic','origAlt':'A','exon':'7','CLNACC1':'183825','CLNSIG1':'Benign/Likely_benign','CLNREVSTAT1':'criteria_provided,_multiple_submitters,_no_conflicts','CLNID1':'rs1801052'}]\n",
      "FUNC=[{'origPos':'29559871','origRef':'C','normalizedRef':'C','gene':'NF1','normalizedPos':'29559871','normalizedAlt':'T','gt':'pos','codon':'AAT','coding':'c.3468C>T','transcript':'NM_001042492.3','function':'synonymous','protein':'p.Asn1156=','location':'exonic','origAlt':'T','exon':'26','CLNACC1':'184364','CLNSIG1':'Benign/Likely_benign','CLNREVSTAT1':'criteria_provided,_multiple_submitters,_no_conflicts','CLNID1':'rs147955381'}]\n",
      "FUNC=[{'origPos':'29653293','origRef':'T','normalizedRef':'T','gene':'NF1','normalizedPos':'29653293','normalizedAlt':'C','gt':'pos','coding':'c.5268+23T>C','transcript':'NM_001042492.3','function':'unknown','protein':'p.?','location':'intronic','origAlt':'C','CLNACC1':'257293','CLNSIG1':'Benign','CLNREVSTAT1':'criteria_provided,_multiple_submitters,_no_conflicts','CLNID1':'rs9894648'}]\n",
      "FUNC=[{'origPos':'29654876','origRef':'T','normalizedRef':'T','gene':'NF1','normalizedPos':'29654876','normalizedAlt':'A','gt':'pos','coding':'c.5609+19T>A','transcript':'NM_001042492.3','function':'unknown','protein':'p.?','location':'intronic','origAlt':'A','CLNACC1':'257294','CLNSIG1':'Benign','CLNREVSTAT1':'criteria_provided,_multiple_submitters,_no_conflicts','CLNID1':'rs2285894'}]\n",
      "FUNC=[{'origPos':'29670190','origRef':'C','normalizedRef':'C','gene':'NF1','normalizedPos':'29670190','normalizedAlt':'G','gt':'pos','coding':'c.7189+37C>G','transcript':'NM_001042492.3','function':'unknown','protein':'p.?','location':'intronic','origAlt':'G','CLNACC1':'257300','CLNSIG1':'Benign','CLNREVSTAT1':'criteria_provided,_multiple_submitters,_no_conflicts','CLNID1':'rs7405740'}]\n",
      "VARB=-5.05066E-5\n",
      "FUNC=[{'transcript':'NR_037714.1','gene':'RAD51L3-RFFL','location':'exonic_nc','exon':'2','CLNACC1':'142159','CLNSIG1':'Benign/Likely_benign','CLNREVSTAT1':'criteria_provided,_multiple_submitters,_no_conflicts','CLNID1':'rs4796033'},{'origPos':'33433487','origRef':'C','normalizedRef':'C','gene':'RAD51D','normalizedPos':'33433487','normalizedAlt':'T','polyphen':'0.008','gt':'pos','codon':'CAG','coding':'c.158G>A','sift':'1.0','grantham':'43.0','transcript':'NM_133629.3','function':'missense','protein':'p.Arg53Gln','location':'exonic','origAlt':'T','exon':'3','CLNACC1':'142159','CLNSIG1':'Benign/Likely_benign','CLNREVSTAT1':'criteria_provided,_multiple_submitters,_no_conflicts','CLNID1':'rs4796033'}]\n",
      "FUNC=[{'transcript':'NR_037714.1','gene':'RAD51L3-RFFL','location':'intronic_nc','CLNACC1':'183785','CLNSIG1':'Benign/Likely_benign','CLNREVSTAT1':'criteria_provided,_multiple_submitters,_no_conflicts','CLNID1':'rs9901455'},{'origPos':'33445549','origRef':'G','normalizedRef':'G','gene':'RAD51D','normalizedPos':'33445549','normalizedAlt':'A','gt':'pos','coding':'c.144+581C>T','transcript':'NM_133629.3','function':'unknown','protein':'p.?','location':'intronic','origAlt':'A','CLNACC1':'183785','CLNSIG1':'Benign/Likely_benign','CLNREVSTAT1':'criteria_provided,_multiple_submitters,_no_conflicts','CLNID1':'rs9901455'}]\n",
      "FUNC=[{'origPos':'37879762','origRef':'G','normalizedRef':'G','gene':'ERBB2','normalizedPos':'37879762','normalizedAlt':'A','gt':'pos','coding':'c.2086-29G>A','transcript':'NM_004448.3','function':'unknown','protein':'p.?','location':'intronic','origAlt':'A'}]\n",
      "FUNC=[{'origPos':'41215825','origRef':'C','normalizedRef':'C','gene':'BRCA1','normalizedPos':'41215825','normalizedAlt':'T','gt':'pos','coding':'c.5152+66G>A','transcript':'NM_007294.4','function':'unknown','protein':'p.?','location':'intronic','origAlt':'T','CLNACC1':'55428','CLNSIG1':'Benign','CLNREVSTAT1':'reviewed_by_expert_panel','CLNID1':'rs3092994'}]\n",
      "FUNC=[{'origPos':'41219780','origRef':'T','normalizedRef':'T','gene':'BRCA1','normalizedPos':'41219780','normalizedAlt':'C','gt':'pos','coding':'c.4987-68A>G','transcript':'NM_007294.4','function':'unknown','protein':'p.?','location':'intronic','origAlt':'C','CLNACC1':'125746','CLNSIG1':'Benign','CLNREVSTAT1':'reviewed_by_expert_panel','CLNID1':'rs8176234'}]\n",
      "FUNC=[{'origPos':'41219804','origRef':'T','normalizedRef':'T','gene':'BRCA1','normalizedPos':'41219804','normalizedAlt':'C','gt':'pos','coding':'c.4987-92A>G','transcript':'NM_007294.4','function':'unknown','protein':'p.?','location':'intronic','origAlt':'C','CLNACC1':'125749','CLNSIG1':'Benign','CLNREVSTAT1':'reviewed_by_expert_panel','CLNID1':'rs8176233'}]\n",
      "FUNC=[{'origPos':'41234470','origRef':'A','normalizedRef':'A','gene':'BRCA1','normalizedPos':'41234470','normalizedAlt':'G','gt':'pos','codon':'TCC','coding':'c.4308T>C','transcript':'NM_007294.4','function':'synonymous','protein':'p.Ser1436=','location':'exonic','origAlt':'G','exon':'12','CLNACC1':'125703','CLNSIG1':'Benign','CLNREVSTAT1':'reviewed_by_expert_panel','CLNID1':'rs1060915'}]\n",
      "FUNC=[{'origPos':'41244000','origRef':'T','normalizedRef':'T','gene':'BRCA1','normalizedPos':'41244000','normalizedAlt':'C','polyphen':'0.0','gt':'pos','codon':'AGA','coding':'c.3548A>G','sift':'1.0','grantham':'26.0','transcript':'NM_007294.4','function':'missense','protein':'p.Lys1183Arg','location':'exonic','origAlt':'C','exon':'10','CLNACC1':'41818','CLNSIG1':'Benign','CLNREVSTAT1':'reviewed_by_expert_panel','CLNID1':'rs16942'}]\n",
      "FUNC=[{'origPos':'41244435','origRef':'T','normalizedRef':'T','gene':'BRCA1','normalizedPos':'41244435','normalizedAlt':'C','polyphen':'0.936','gt':'pos','codon':'GGA','coding':'c.3113A>G','sift':'0.03','grantham':'98.0','transcript':'NM_007294.4','function':'missense','protein':'p.Glu1038Gly','location':'exonic','origAlt':'C','exon':'10','CLNACC1':'41815','CLNSIG1':'Benign','CLNREVSTAT1':'reviewed_by_expert_panel','CLNID1':'rs16941'}]\n",
      "FUNC=[{'origPos':'41244936','origRef':'G','normalizedRef':'G','gene':'BRCA1','normalizedPos':'41244936','normalizedAlt':'A','polyphen':'0.0','gt':'pos','codon':'CTG','coding':'c.2612C>T','sift':'1.0','grantham':'98.0','transcript':'NM_007294.4','function':'missense','protein':'p.Pro871Leu','location':'exonic','origAlt':'A','exon':'10','CLNACC1':'41812','CLNSIG1':'Benign','CLNREVSTAT1':'reviewed_by_expert_panel','CLNID1':'rs799917'}]\n",
      "FUNC=[{'origPos':'41245237','origRef':'A','normalizedRef':'A','gene':'BRCA1','normalizedPos':'41245237','normalizedAlt':'G','gt':'pos','codon':'CTG','coding':'c.2311T>C','transcript':'NM_007294.4','function':'synonymous','protein':'p.Leu771=','location':'exonic','origAlt':'G','exon':'10','CLNACC1':'125554','CLNSIG1':'Benign','CLNREVSTAT1':'reviewed_by_expert_panel','CLNID1':'rs16940'}]\n",
      "FUNC=[{'origPos':'41245466','origRef':'G','normalizedRef':'G','gene':'BRCA1','normalizedPos':'41245466','normalizedAlt':'A','gt':'pos','codon':'AGT','coding':'c.2082C>T','transcript':'NM_007294.4','function':'synonymous','protein':'p.Ser694=','location':'exonic','origAlt':'A','exon':'10','CLNACC1':'125536','CLNSIG1':'Benign','CLNREVSTAT1':'reviewed_by_expert_panel','CLNID1':'rs1799949'}]\n",
      "FUNC=[{'origPos':'56769979','origRef':'C','normalizedRef':'C','gene':'TEX14','normalizedPos':'56769979','normalizedAlt':'T','gt':'pos','coding':'c.-40617G>A','transcript':'NM_001201457.1','function':'unknown','protein':'p.?','location':'upstream','origAlt':'T','CLNACC1':'324173','CLNSIG1':'Likely_benign','CLNREVSTAT1':'criteria_provided,_single_submitter','CLNID1':'rs12946397'},{'origPos':'56769979','origRef':'C','normalizedRef':'C','gene':'RAD51C','normalizedPos':'56769979','normalizedAlt':'T','gt':'pos','coding':'c.-26C>T','transcript':'NM_058216.3','function':'unknown','protein':'p.?','location':'utr_5','origAlt':'T','exon':'1','CLNACC1':'324173','CLNSIG1':'Likely_benign','CLNREVSTAT1':'criteria_provided,_single_submitter','CLNID1':'rs12946397'}]\n",
      "FUNC=[{'origPos':'11105608','origRef':'T','normalizedRef':'T','gene':'SMARCA4','normalizedPos':'11105608','normalizedAlt':'C','gt':'pos','codon':'CAC','coding':'c.1524T>C','transcript':'NM_001128849.3','function':'synonymous','protein':'p.His508=','location':'exonic','origAlt':'C','exon':'9','CLNACC1':'126359','CLNSIG1':'Benign','CLNREVSTAT1':'criteria_provided,_multiple_submitters,_no_conflicts','CLNID1':'rs7935'}]\n",
      "FUNC=[{'origPos':'11129600','origRef':'C','normalizedRef':'C','gene':'SMARCA4','normalizedPos':'11129600','normalizedAlt':'T','gt':'pos','coding':'c.2439-33C>T','transcript':'NM_001128849.3','function':'unknown','protein':'p.?','location':'intronic','origAlt':'T','CLNACC1':'676520','CLNSIG1':'Benign','CLNREVSTAT1':'criteria_provided,_single_submitter'}]\n",
      "FUNC=[{'origPos':'11170839','origRef':'T','normalizedRef':'T','gene':'SMARCA4','normalizedPos':'11170839','normalizedAlt':'C','gt':'pos','codon':'GAC','coding':'c.4983T>C','transcript':'NM_001128849.3','function':'synonymous','protein':'p.Asp1661=','location':'exonic','origAlt':'C','exon':'35','CLNACC1':'126365','CLNSIG1':'Benign','CLNREVSTAT1':'criteria_provided,_multiple_submitters,_no_conflicts','CLNID1':'rs7275'}]\n",
      "FUNC=[{'origPos':'15271771','origRef':'G','normalizedRef':'G','gene':'NOTCH3','normalizedPos':'15271771','normalizedAlt':'A','polyphen':'0.001','gt':'pos','codon':'GTG','coding':'c.6668C>T','sift':'0.07','grantham':'64.0','transcript':'NM_000435.3','function':'missense','protein':'p.Ala2223Val','location':'exonic','origAlt':'A','exon':'33','CLNACC1':'256152','CLNSIG1':'Benign','CLNREVSTAT1':'criteria_provided,_multiple_submitters,_no_conflicts','CLNID1':'rs1044009'}]\n",
      "FUNC=[{'origPos':'15273248','origRef':'A','normalizedRef':'A','gene':'NOTCH3','normalizedPos':'15273248','normalizedAlt':'C','gt':'pos','coding':'c.5913+28T>G','transcript':'NM_000435.3','function':'unknown','protein':'p.?','location':'intronic','origAlt':'C','CLNACC1':'811011','CLNSIG1':'Benign','CLNREVSTAT1':'criteria_provided,_single_submitter'}]\n",
      "VARB=2.54619E-4\n",
      "FUNC=[{'origPos':'15276143','origRef':'C','normalizedRef':'C','gene':'NOTCH3','normalizedPos':'15276143','normalizedAlt':'T','gt':'pos','coding':'c.5815+36G>A','transcript':'NM_000435.3','function':'unknown','protein':'p.?','location':'intronic','origAlt':'T','CLNACC1':'811010','CLNSIG1':'Benign','CLNREVSTAT1':'criteria_provided,_single_submitter'}]\n",
      "FUNC=[{'origPos':'15276919','origRef':'G','normalizedRef':'G','gene':'NOTCH3','normalizedPos':'15276919','normalizedAlt':'A','gt':'pos','coding':'c.5363-17C>T','transcript':'NM_000435.3','function':'unknown','protein':'p.?','location':'intronic','origAlt':'A','CLNACC1':'256141','CLNSIG1':'Benign','CLNREVSTAT1':'criteria_provided,_multiple_submitters,_no_conflicts','CLNID1':'rs2074619'}]\n",
      "FUNC=[{'origPos':'15276923','origRef':'C','normalizedRef':'C','gene':'NOTCH3','normalizedPos':'15276923','normalizedAlt':'T','gt':'pos','coding':'c.5363-21G>A','transcript':'NM_000435.3','function':'unknown','protein':'p.?','location':'intronic','origAlt':'T','CLNACC1':'811008','CLNSIG1':'Benign','CLNREVSTAT1':'criteria_provided,_single_submitter'}]\n",
      "FUNC=[{'origPos':'15278057','origRef':'A','normalizedRef':'A','gene':'NOTCH3','normalizedPos':'15278057','normalizedAlt':'G','gt':'pos','coding':'c.5362+3T>C','transcript':'NM_000435.3','function':'unknown','protein':'p.?','location':'splicesite_5','origAlt':'G','exon':'29','CLNACC1':'256140','CLNSIG1':'Benign','CLNREVSTAT1':'criteria_provided,_multiple_submitters,_no_conflicts','CLNID1':'rs1548555'}]\n",
      "VARB=-5.18738E-6\n",
      "FUNC=[{'origPos':'15285272','origRef':'T','normalizedRef':'T','gene':'NOTCH3','normalizedPos':'15285272','normalizedAlt':'C','gt':'pos','coding':'c.4404-61A>G','transcript':'NM_000435.3','function':'unknown','protein':'p.?','location':'intronic','origAlt':'C'}]\n",
      "FUNC=[{'origPos':'15289613','origRef':'A','normalizedRef':'A','gene':'NOTCH3','normalizedPos':'15289613','normalizedAlt':'T','gt':'pos','coding':'c.3837+21T>A','transcript':'NM_000435.3','function':'unknown','protein':'p.?','location':'intronic','origAlt':'T','CLNACC1':'811005','CLNSIG1':'Benign','CLNREVSTAT1':'criteria_provided,_single_submitter'},{'transcript':'NR_106853.1','gene':'MIR6795','location':'downstream','CLNACC1':'811005','CLNSIG1':'Benign','CLNREVSTAT1':'criteria_provided,_single_submitter'}]\n",
      "FUNC=[{'origPos':'15292366','origRef':'C','normalizedRef':'C','gene':'NOTCH3','normalizedPos':'15292366','normalizedAlt':'T','gt':'pos','coding':'c.2792+21G>A','transcript':'NM_000435.3','function':'unknown','protein':'p.?','location':'intronic','origAlt':'T','CLNACC1':'811009','CLNSIG1':'Benign','CLNREVSTAT1':'criteria_provided,_single_submitter'}]\n",
      "FUNC=[{'origPos':'15292437','origRef':'T','normalizedRef':'T','gene':'NOTCH3','normalizedPos':'15292437','normalizedAlt':'C','gt':'pos','codon':'CCG','coding':'c.2742A>G','transcript':'NM_000435.3','function':'synonymous','protein':'p.Pro914=','location':'exonic','origAlt':'C','exon':'17','CLNACC1':'256130','CLNSIG1':'Benign','CLNREVSTAT1':'criteria_provided,_multiple_submitters,_no_conflicts','CLNID1':'rs1043997'}]\n",
      "FUNC=[{'origPos':'15292623','origRef':'G','normalizedRef':'G','gene':'NOTCH3','normalizedPos':'15292623','normalizedAlt':'A','gt':'pos','coding':'c.2567-11C>T','transcript':'NM_000435.3','function':'unknown','protein':'p.?','location':'intronic','origAlt':'A'}]\n",
      "FUNC=[{'origPos':'15294991','origRef':'C','normalizedRef':'C','gene':'NOTCH3','normalizedPos':'15294991','normalizedAlt':'T','gt':'pos','coding':'c.2566+115G>A','transcript':'NM_000435.3','function':'unknown','protein':'p.?','location':'intronic','origAlt':'T'}]\n",
      "FUNC=[{'origPos':'15295134','origRef':'G','normalizedRef':'G','gene':'NOTCH3','normalizedPos':'15295134','normalizedAlt':'A','gt':'pos','codon':'TGT','coding':'c.2538C>T','transcript':'NM_000435.3','function':'synonymous','protein':'p.Cys846=','location':'exonic','origAlt':'A','exon':'16','CLNACC1':'256129','CLNSIG1':'Benign','CLNREVSTAT1':'criteria_provided,_multiple_submitters,_no_conflicts','CLNID1':'rs1043996'}]\n",
      "FUNC=[{'origPos':'15300069','origRef':'T','normalizedRef':'T','gene':'NOTCH3','normalizedPos':'15300069','normalizedAlt':'C','gt':'pos','coding':'c.1192+15A>G','transcript':'NM_000435.3','function':'unknown','protein':'p.?','location':'intronic','origAlt':'C','CLNACC1':'256118','CLNSIG1':'Benign','CLNREVSTAT1':'criteria_provided,_multiple_submitters,_no_conflicts','CLNID1':'rs10423702'}]\n",
      "FUNC=[{'origPos':'15302610','origRef':'T','normalizedRef':'T','gene':'NOTCH3','normalizedPos':'15302610','normalizedAlt':'C','polyphen':'0.94','gt':'pos','codon':'GCA','coding':'c.748A>G','sift':'0.26','grantham':'58.0','transcript':'NM_000435.3','function':'missense','protein':'p.Thr250Ala','location':'exonic','origAlt':'C','exon':'5'}]\n",
      "VARB=0.00203757\n",
      "FUNC=[{'origPos':'30308385','origRef':'T','normalizedRef':'T','gene':'CCNE1','normalizedPos':'30308385','normalizedAlt':'C','gt':'pos','codon':'TTC','coding':'c.399T>C','transcript':'NM_001238.4','function':'synonymous','protein':'p.Phe133=','location':'exonic','origAlt':'C','exon':'6'}]\n",
      "FUNC=[{'origPos':'30314666','origRef':'C','normalizedRef':'C','gene':'CCNE1','normalizedPos':'30314666','normalizedAlt':'T','gt':'pos','codon':'AGT','coding':'c.1215C>T','transcript':'NM_001238.4','function':'synonymous','protein':'p.Ser405=','location':'exonic','origAlt':'T','exon':'12'}]\n",
      "FUNC=[{'origPos':'40742320','origRef':'T','normalizedRef':'T','gene':'AKT2','normalizedPos':'40742320','normalizedAlt':'C','gt':'pos','coding':'c.832-28A>G','transcript':'NM_001626.6','function':'unknown','protein':'p.?','location':'intronic','origAlt':'C'}]\n"
     ]
    },
    {
     "ename": "IndexError",
     "evalue": "list index out of range",
     "output_type": "error",
     "traceback": [
      "\u001b[0;31m---------------------------------------------------------------------------\u001b[0m",
      "\u001b[0;31mIndexError\u001b[0m                                Traceback (most recent call last)",
      "\u001b[0;32m<ipython-input-29-794e82e90a7d>\u001b[0m in \u001b[0;36m<module>\u001b[0;34m()\u001b[0m\n\u001b[1;32m     38\u001b[0m \u001b[0;34m\u001b[0m\u001b[0m\n\u001b[1;32m     39\u001b[0m \u001b[0;34m\u001b[0m\u001b[0m\n\u001b[0;32m---> 40\u001b[0;31m \u001b[0mdf\u001b[0m \u001b[0;34m=\u001b[0m \u001b[0mparse_thermo_vcf\u001b[0m\u001b[0;34m(\u001b[0m\u001b[0mvcffile\u001b[0m\u001b[0;34m)\u001b[0m\u001b[0;34m\u001b[0m\u001b[0m\n\u001b[0m\u001b[1;32m     41\u001b[0m \u001b[0mdf\u001b[0m\u001b[0;34m\u001b[0m\u001b[0m\n\u001b[1;32m     42\u001b[0m \u001b[0;31m#df = filter_nocalls(df)\u001b[0m\u001b[0;34m\u001b[0m\u001b[0;34m\u001b[0m\u001b[0m\n",
      "\u001b[0;32m<ipython-input-29-794e82e90a7d>\u001b[0m in \u001b[0;36mparse_thermo_vcf\u001b[0;34m(vcf, infocol, formatcol, formatdesccol)\u001b[0m\n\u001b[1;32m     28\u001b[0m             \u001b[0mx\u001b[0m \u001b[0;34m=\u001b[0m \u001b[0;34m[\u001b[0m\u001b[0mi\u001b[0m \u001b[0;32mfor\u001b[0m \u001b[0mi\u001b[0m \u001b[0;32min\u001b[0m \u001b[0;34m[\u001b[0m\u001b[0mp\u001b[0m \u001b[0;32mfor\u001b[0m \u001b[0mp\u001b[0m \u001b[0;32min\u001b[0m \u001b[0mre\u001b[0m\u001b[0;34m.\u001b[0m\u001b[0msplit\u001b[0m\u001b[0;34m(\u001b[0m\u001b[0;34mr';(?![^\\(\\[]*[\\]\\)])'\u001b[0m\u001b[0;34m,\u001b[0m \u001b[0mvar\u001b[0m\u001b[0;34m[\u001b[0m\u001b[0minfocol\u001b[0m\u001b[0;34m]\u001b[0m\u001b[0;34m)\u001b[0m\u001b[0;34m]\u001b[0m\u001b[0;34m]\u001b[0m\u001b[0;34m\u001b[0m\u001b[0m\n\u001b[1;32m     29\u001b[0m             \u001b[0;31m#print dict(e.split('=') for e in x[44])\u001b[0m\u001b[0;34m\u001b[0m\u001b[0;34m\u001b[0m\u001b[0m\n\u001b[0;32m---> 30\u001b[0;31m             \u001b[0;32mprint\u001b[0m \u001b[0mx\u001b[0m\u001b[0;34m[\u001b[0m\u001b[0;36m44\u001b[0m\u001b[0;34m]\u001b[0m\u001b[0;34m\u001b[0m\u001b[0m\n\u001b[0m\u001b[1;32m     31\u001b[0m \u001b[0;34m\u001b[0m\u001b[0m\n\u001b[1;32m     32\u001b[0m     \u001b[0;31m#\u001b[0m\u001b[0;34m\u001b[0m\u001b[0;34m\u001b[0m\u001b[0m\n",
      "\u001b[0;31mIndexError\u001b[0m: list index out of range"
     ]
    }
   ],
   "source": [
    "vcffile = '../tests/vcfs/test.vcf'\n",
    "\n",
    "def parse_thermo_vcf(vcf, infocol=-3, formatcol=-1, formatdesccol=-2):\n",
    "    '''\n",
    "    Les inn vcf til csv reader:\n",
    "    Fjerner samtidig nocalls\n",
    "    \n",
    "    Lagrer i pandas df på vei ut\n",
    "    \n",
    "    \n",
    "    '''\n",
    "    vcf = csv.reader(open(vcf,'r+'),delimiter=\"\\t\")\n",
    "    \n",
    "    df = pd.DataFrame()\n",
    "    \n",
    "    for count,var in enumerate(vcf):\n",
    "        if not var[0].startswith(\"#\") and not var[-1].startswith(\"./.\") and not var[-1].startswith(\"0/0\"):\n",
    "        #if not var[0].startswith(\"#\") and var[-1].startswith(\"0/0:175:2435:1995:2380:1995:0:0:0:0:0:1209:1171:0:0:1029:966\"):\n",
    "            \n",
    "                #print var\n",
    "                # Eksploder FORMAT til dict\n",
    "                #print {var[formatdesccol].split(\":\")[i]: var[formatcol].split(\":\")[i] for i in range(len(var[formatdesccol].split(\":\")))}\n",
    "                # Eksploder INFO til Dict:\n",
    "                # Ta høyde for at det ikke er = som HS\n",
    "                #print var[infocol].split(\";\")\n",
    "            \n",
    "            \n",
    "            x = [i for i in [p for p in re.split(r';(?![^\\(\\[]*[\\]\\)])', var[infocol])]]\n",
    "            #print dict(e.split('=') for e in x[44])\n",
    "            print x[44]\n",
    "    \n",
    "    #\n",
    "    \n",
    "   \n",
    "\n",
    "\n",
    "\n",
    "\n",
    "\n",
    "df = parse_thermo_vcf(vcffile)\n",
    "df\n",
    "#df = filter_nocalls(df)"
   ]
  },
  {
   "cell_type": "code",
   "execution_count": 7,
   "metadata": {},
   "outputs": [
    {
     "ename": "AttributeError",
     "evalue": "'NoneType' object has no attribute 'head'",
     "output_type": "error",
     "traceback": [
      "\u001b[0;31m---------------------------------------------------------------------------\u001b[0m",
      "\u001b[0;31mAttributeError\u001b[0m                            Traceback (most recent call last)",
      "\u001b[0;32m<ipython-input-7-b52e14bf0d4f>\u001b[0m in \u001b[0;36m<module>\u001b[0;34m()\u001b[0m\n\u001b[0;32m----> 1\u001b[0;31m \u001b[0mmini\u001b[0m \u001b[0;34m=\u001b[0m \u001b[0mdf\u001b[0m\u001b[0;34m.\u001b[0m\u001b[0mhead\u001b[0m\u001b[0;34m(\u001b[0m\u001b[0;34m)\u001b[0m\u001b[0;34m\u001b[0m\u001b[0m\n\u001b[0m",
      "\u001b[0;31mAttributeError\u001b[0m: 'NoneType' object has no attribute 'head'"
     ]
    }
   ],
   "source": [
    "mini = df.head()"
   ]
  },
  {
   "cell_type": "code",
   "execution_count": 5,
   "metadata": {},
   "outputs": [
    {
     "ename": "NameError",
     "evalue": "name 'mini' is not defined",
     "output_type": "error",
     "traceback": [
      "\u001b[0;31m---------------------------------------------------------------------------\u001b[0m",
      "\u001b[0;31mNameError\u001b[0m                                 Traceback (most recent call last)",
      "\u001b[0;32m<ipython-input-5-e74fa1ef86b8>\u001b[0m in \u001b[0;36m<module>\u001b[0;34m()\u001b[0m\n\u001b[0;32m----> 1\u001b[0;31m \u001b[0mmini\u001b[0m\u001b[0;34m\u001b[0m\u001b[0m\n\u001b[0m",
      "\u001b[0;31mNameError\u001b[0m: name 'mini' is not defined"
     ]
    }
   ],
   "source": [
    "mini"
   ]
  },
  {
   "cell_type": "code",
   "execution_count": 108,
   "metadata": {},
   "outputs": [
    {
     "ename": "AttributeError",
     "evalue": "Can only use .str accessor with string values, which use np.object_ dtype in pandas",
     "output_type": "error",
     "traceback": [
      "\u001b[0;31m---------------------------------------------------------------------------\u001b[0m",
      "\u001b[0;31mAttributeError\u001b[0m                            Traceback (most recent call last)",
      "\u001b[0;32m<ipython-input-108-b99cb976727b>\u001b[0m in \u001b[0;36m<module>\u001b[0;34m()\u001b[0m\n\u001b[0;32m----> 1\u001b[0;31m \u001b[0mmini\u001b[0m\u001b[0;34m[\u001b[0m\u001b[0;34m'INFO'\u001b[0m\u001b[0;34m]\u001b[0m \u001b[0;34m=\u001b[0m \u001b[0mmini\u001b[0m\u001b[0;34m[\u001b[0m\u001b[0;34m'INFO'\u001b[0m\u001b[0;34m]\u001b[0m\u001b[0;34m.\u001b[0m\u001b[0mstr\u001b[0m\u001b[0;34m.\u001b[0m\u001b[0msplit\u001b[0m\u001b[0;34m(\u001b[0m\u001b[0;34m\";\"\u001b[0m\u001b[0;34m)\u001b[0m\u001b[0;34m\u001b[0m\u001b[0m\n\u001b[0m\u001b[1;32m      2\u001b[0m \u001b[0mmini\u001b[0m\u001b[0;34m\u001b[0m\u001b[0m\n",
      "\u001b[0;32m/usr/local/anaconda2/lib/python2.7/site-packages/pandas/core/generic.pyc\u001b[0m in \u001b[0;36m__getattr__\u001b[0;34m(self, name)\u001b[0m\n\u001b[1;32m   5061\u001b[0m         if (name in self._internal_names_set or name in self._metadata or\n\u001b[1;32m   5062\u001b[0m                 name in self._accessors):\n\u001b[0;32m-> 5063\u001b[0;31m             \u001b[0;32mreturn\u001b[0m \u001b[0mobject\u001b[0m\u001b[0;34m.\u001b[0m\u001b[0m__getattribute__\u001b[0m\u001b[0;34m(\u001b[0m\u001b[0mself\u001b[0m\u001b[0;34m,\u001b[0m \u001b[0mname\u001b[0m\u001b[0;34m)\u001b[0m\u001b[0;34m\u001b[0m\u001b[0m\n\u001b[0m\u001b[1;32m   5064\u001b[0m         \u001b[0;32melse\u001b[0m\u001b[0;34m:\u001b[0m\u001b[0;34m\u001b[0m\u001b[0m\n\u001b[1;32m   5065\u001b[0m             \u001b[0;32mif\u001b[0m \u001b[0mself\u001b[0m\u001b[0;34m.\u001b[0m\u001b[0m_info_axis\u001b[0m\u001b[0;34m.\u001b[0m\u001b[0m_can_hold_identifiers_and_holds_name\u001b[0m\u001b[0;34m(\u001b[0m\u001b[0mname\u001b[0m\u001b[0;34m)\u001b[0m\u001b[0;34m:\u001b[0m\u001b[0;34m\u001b[0m\u001b[0m\n",
      "\u001b[0;32m/usr/local/anaconda2/lib/python2.7/site-packages/pandas/core/accessor.pyc\u001b[0m in \u001b[0;36m__get__\u001b[0;34m(self, obj, cls)\u001b[0m\n\u001b[1;32m    169\u001b[0m             \u001b[0;31m# we're accessing the attribute of the class, i.e., Dataset.geo\u001b[0m\u001b[0;34m\u001b[0m\u001b[0;34m\u001b[0m\u001b[0m\n\u001b[1;32m    170\u001b[0m             \u001b[0;32mreturn\u001b[0m \u001b[0mself\u001b[0m\u001b[0;34m.\u001b[0m\u001b[0m_accessor\u001b[0m\u001b[0;34m\u001b[0m\u001b[0m\n\u001b[0;32m--> 171\u001b[0;31m         \u001b[0maccessor_obj\u001b[0m \u001b[0;34m=\u001b[0m \u001b[0mself\u001b[0m\u001b[0;34m.\u001b[0m\u001b[0m_accessor\u001b[0m\u001b[0;34m(\u001b[0m\u001b[0mobj\u001b[0m\u001b[0;34m)\u001b[0m\u001b[0;34m\u001b[0m\u001b[0m\n\u001b[0m\u001b[1;32m    172\u001b[0m         \u001b[0;31m# Replace the property with the accessor object. Inspired by:\u001b[0m\u001b[0;34m\u001b[0m\u001b[0;34m\u001b[0m\u001b[0m\n\u001b[1;32m    173\u001b[0m         \u001b[0;31m# http://www.pydanny.com/cached-property.html\u001b[0m\u001b[0;34m\u001b[0m\u001b[0;34m\u001b[0m\u001b[0m\n",
      "\u001b[0;32m/usr/local/anaconda2/lib/python2.7/site-packages/pandas/core/strings.pyc\u001b[0m in \u001b[0;36m__init__\u001b[0;34m(self, data)\u001b[0m\n\u001b[1;32m   1794\u001b[0m \u001b[0;34m\u001b[0m\u001b[0m\n\u001b[1;32m   1795\u001b[0m     \u001b[0;32mdef\u001b[0m \u001b[0m__init__\u001b[0m\u001b[0;34m(\u001b[0m\u001b[0mself\u001b[0m\u001b[0;34m,\u001b[0m \u001b[0mdata\u001b[0m\u001b[0;34m)\u001b[0m\u001b[0;34m:\u001b[0m\u001b[0;34m\u001b[0m\u001b[0m\n\u001b[0;32m-> 1796\u001b[0;31m         \u001b[0mself\u001b[0m\u001b[0;34m.\u001b[0m\u001b[0m_validate\u001b[0m\u001b[0;34m(\u001b[0m\u001b[0mdata\u001b[0m\u001b[0;34m)\u001b[0m\u001b[0;34m\u001b[0m\u001b[0m\n\u001b[0m\u001b[1;32m   1797\u001b[0m         \u001b[0mself\u001b[0m\u001b[0;34m.\u001b[0m\u001b[0m_is_categorical\u001b[0m \u001b[0;34m=\u001b[0m \u001b[0mis_categorical_dtype\u001b[0m\u001b[0;34m(\u001b[0m\u001b[0mdata\u001b[0m\u001b[0;34m)\u001b[0m\u001b[0;34m\u001b[0m\u001b[0m\n\u001b[1;32m   1798\u001b[0m \u001b[0;34m\u001b[0m\u001b[0m\n",
      "\u001b[0;32m/usr/local/anaconda2/lib/python2.7/site-packages/pandas/core/strings.pyc\u001b[0m in \u001b[0;36m_validate\u001b[0;34m(data)\u001b[0m\n\u001b[1;32m   1816\u001b[0m             \u001b[0;31m# (instead of test for object dtype), but that isn't practical for\u001b[0m\u001b[0;34m\u001b[0m\u001b[0;34m\u001b[0m\u001b[0m\n\u001b[1;32m   1817\u001b[0m             \u001b[0;31m# performance reasons until we have a str dtype (GH 9343)\u001b[0m\u001b[0;34m\u001b[0m\u001b[0;34m\u001b[0m\u001b[0m\n\u001b[0;32m-> 1818\u001b[0;31m             raise AttributeError(\"Can only use .str accessor with string \"\n\u001b[0m\u001b[1;32m   1819\u001b[0m                                  \u001b[0;34m\"values, which use np.object_ dtype in \"\u001b[0m\u001b[0;34m\u001b[0m\u001b[0m\n\u001b[1;32m   1820\u001b[0m                                  \"pandas\")\n",
      "\u001b[0;31mAttributeError\u001b[0m: Can only use .str accessor with string values, which use np.object_ dtype in pandas"
     ]
    }
   ],
   "source": []
  },
  {
   "cell_type": "code",
   "execution_count": 102,
   "metadata": {},
   "outputs": [
    {
     "ename": "ValueError",
     "evalue": "dictionary update sequence element #44 has length 3; 2 is required",
     "output_type": "error",
     "traceback": [
      "\u001b[0;31m---------------------------------------------------------------------------\u001b[0m",
      "\u001b[0;31mValueError\u001b[0m                                Traceback (most recent call last)",
      "\u001b[0;32m<ipython-input-102-3cfc1c7c202e>\u001b[0m in \u001b[0;36m<module>\u001b[0;34m()\u001b[0m\n\u001b[0;32m----> 1\u001b[0;31m \u001b[0;34m[\u001b[0m\u001b[0mdict\u001b[0m\u001b[0;34m(\u001b[0m\u001b[0mi\u001b[0m\u001b[0;34m.\u001b[0m\u001b[0msplit\u001b[0m\u001b[0;34m(\u001b[0m\u001b[0;34m'='\u001b[0m\u001b[0;34m)\u001b[0m \u001b[0;32mfor\u001b[0m \u001b[0mi\u001b[0m \u001b[0;32min\u001b[0m \u001b[0mx\u001b[0m\u001b[0;34m)\u001b[0m \u001b[0;32mfor\u001b[0m \u001b[0mx\u001b[0m \u001b[0;32min\u001b[0m \u001b[0mlist\u001b[0m\u001b[0;34m(\u001b[0m\u001b[0mmini\u001b[0m\u001b[0;34m[\u001b[0m\u001b[0;34m'INFO'\u001b[0m\u001b[0;34m]\u001b[0m\u001b[0;34m.\u001b[0m\u001b[0mstr\u001b[0m\u001b[0;34m.\u001b[0m\u001b[0msplit\u001b[0m\u001b[0;34m(\u001b[0m\u001b[0;34m\";\"\u001b[0m\u001b[0;34m)\u001b[0m\u001b[0;34m)\u001b[0m\u001b[0;34m]\u001b[0m\u001b[0;34m\u001b[0m\u001b[0m\n\u001b[0m",
      "\u001b[0;31mValueError\u001b[0m: dictionary update sequence element #44 has length 3; 2 is required"
     ]
    }
   ],
   "source": [
    "[dict(i.split('=') for i in x) for x in list(mini['INFO'].str.split(\";\"))]\n"
   ]
  },
  {
   "cell_type": "code",
   "execution_count": null,
   "metadata": {},
   "outputs": [],
   "source": []
  },
  {
   "cell_type": "code",
   "execution_count": null,
   "metadata": {},
   "outputs": [],
   "source": []
  },
  {
   "cell_type": "code",
   "execution_count": 78,
   "metadata": {},
   "outputs": [
    {
     "ename": "AttributeError",
     "evalue": "'list' object has no attribute 'split'",
     "output_type": "error",
     "traceback": [
      "\u001b[0;31m---------------------------------------------------------------------------\u001b[0m",
      "\u001b[0;31mAttributeError\u001b[0m                            Traceback (most recent call last)",
      "\u001b[0;32m<ipython-input-78-b438d969db63>\u001b[0m in \u001b[0;36m<module>\u001b[0;34m()\u001b[0m\n\u001b[0;32m----> 1\u001b[0;31m \u001b[0md\u001b[0m \u001b[0;34m=\u001b[0m \u001b[0;34m[\u001b[0m\u001b[0mdict\u001b[0m\u001b[0;34m(\u001b[0m\u001b[0mx\u001b[0m\u001b[0;34m.\u001b[0m\u001b[0msplit\u001b[0m\u001b[0;34m(\u001b[0m\u001b[0;34m'='\u001b[0m\u001b[0;34m)\u001b[0m \u001b[0;32mfor\u001b[0m \u001b[0mi\u001b[0m \u001b[0;32min\u001b[0m \u001b[0mx\u001b[0m\u001b[0;34m)\u001b[0m \u001b[0;32mfor\u001b[0m \u001b[0mx\u001b[0m \u001b[0;32min\u001b[0m \u001b[0mmini\u001b[0m\u001b[0;34m[\u001b[0m\u001b[0;34m'INFO'\u001b[0m\u001b[0;34m]\u001b[0m\u001b[0;34m.\u001b[0m\u001b[0mstr\u001b[0m\u001b[0;34m.\u001b[0m\u001b[0msplit\u001b[0m\u001b[0;34m(\u001b[0m\u001b[0;34m';'\u001b[0m\u001b[0;34m)\u001b[0m\u001b[0;34m]\u001b[0m\u001b[0;34m\u001b[0m\u001b[0m\n\u001b[0m\u001b[1;32m      2\u001b[0m \u001b[0md\u001b[0m\u001b[0;34m\u001b[0m\u001b[0m\n\u001b[1;32m      3\u001b[0m \u001b[0;31m#{k: v for d in L for k, v in d.items()}\u001b[0m\u001b[0;34m\u001b[0m\u001b[0;34m\u001b[0m\u001b[0m\n\u001b[1;32m      4\u001b[0m \u001b[0;31m#df = pd.DataFrame.from_dict()\u001b[0m\u001b[0;34m\u001b[0m\u001b[0;34m\u001b[0m\u001b[0m\n\u001b[1;32m      5\u001b[0m \u001b[0;31m#pd.DataFrame.from_dict(L)\u001b[0m\u001b[0;34m\u001b[0m\u001b[0;34m\u001b[0m\u001b[0m\n",
      "\u001b[0;32m<ipython-input-78-b438d969db63>\u001b[0m in \u001b[0;36m<genexpr>\u001b[0;34m((i,))\u001b[0m\n\u001b[0;32m----> 1\u001b[0;31m \u001b[0md\u001b[0m \u001b[0;34m=\u001b[0m \u001b[0;34m[\u001b[0m\u001b[0mdict\u001b[0m\u001b[0;34m(\u001b[0m\u001b[0mx\u001b[0m\u001b[0;34m.\u001b[0m\u001b[0msplit\u001b[0m\u001b[0;34m(\u001b[0m\u001b[0;34m'='\u001b[0m\u001b[0;34m)\u001b[0m \u001b[0;32mfor\u001b[0m \u001b[0mi\u001b[0m \u001b[0;32min\u001b[0m \u001b[0mx\u001b[0m\u001b[0;34m)\u001b[0m \u001b[0;32mfor\u001b[0m \u001b[0mx\u001b[0m \u001b[0;32min\u001b[0m \u001b[0mmini\u001b[0m\u001b[0;34m[\u001b[0m\u001b[0;34m'INFO'\u001b[0m\u001b[0;34m]\u001b[0m\u001b[0;34m.\u001b[0m\u001b[0mstr\u001b[0m\u001b[0;34m.\u001b[0m\u001b[0msplit\u001b[0m\u001b[0;34m(\u001b[0m\u001b[0;34m';'\u001b[0m\u001b[0;34m)\u001b[0m\u001b[0;34m]\u001b[0m\u001b[0;34m\u001b[0m\u001b[0m\n\u001b[0m\u001b[1;32m      2\u001b[0m \u001b[0md\u001b[0m\u001b[0;34m\u001b[0m\u001b[0m\n\u001b[1;32m      3\u001b[0m \u001b[0;31m#{k: v for d in L for k, v in d.items()}\u001b[0m\u001b[0;34m\u001b[0m\u001b[0;34m\u001b[0m\u001b[0m\n\u001b[1;32m      4\u001b[0m \u001b[0;31m#df = pd.DataFrame.from_dict()\u001b[0m\u001b[0;34m\u001b[0m\u001b[0;34m\u001b[0m\u001b[0m\n\u001b[1;32m      5\u001b[0m \u001b[0;31m#pd.DataFrame.from_dict(L)\u001b[0m\u001b[0;34m\u001b[0m\u001b[0;34m\u001b[0m\u001b[0m\n",
      "\u001b[0;31mAttributeError\u001b[0m: 'list' object has no attribute 'split'"
     ]
    }
   ],
   "source": [
    "d = [dict(x.split('=') for i in x) for x in mini['INFO'].str.split(';')]\n",
    "d\n",
    "#{k: v for d in L for k, v in d.items()}\n",
    "#df = pd.DataFrame.from_dict()\n",
    "#pd.DataFrame.from_dict(L)\n",
    "#df = df[['name']].join(pd.DataFrame(L))"
   ]
  },
  {
   "cell_type": "code",
   "execution_count": 57,
   "metadata": {},
   "outputs": [
    {
     "ename": "AttributeError",
     "evalue": "'list' object has no attribute 'items'",
     "output_type": "error",
     "traceback": [
      "\u001b[0;31m---------------------------------------------------------------------------\u001b[0m",
      "\u001b[0;31mAttributeError\u001b[0m                            Traceback (most recent call last)",
      "\u001b[0;32m<ipython-input-57-e776d7b903f4>\u001b[0m in \u001b[0;36m<module>\u001b[0;34m()\u001b[0m\n\u001b[0;32m----> 1\u001b[0;31m \u001b[0;34m{\u001b[0m\u001b[0mk\u001b[0m\u001b[0;34m:\u001b[0m \u001b[0;34m[\u001b[0m\u001b[0mv\u001b[0m\u001b[0;34m]\u001b[0m \u001b[0;32mfor\u001b[0m \u001b[0mk\u001b[0m\u001b[0;34m,\u001b[0m \u001b[0mv\u001b[0m \u001b[0;32min\u001b[0m \u001b[0mL\u001b[0m\u001b[0;34m.\u001b[0m\u001b[0mitems\u001b[0m\u001b[0;34m(\u001b[0m\u001b[0;34m)\u001b[0m\u001b[0;34m}\u001b[0m\u001b[0;34m\u001b[0m\u001b[0m\n\u001b[0m",
      "\u001b[0;31mAttributeError\u001b[0m: 'list' object has no attribute 'items'"
     ]
    }
   ],
   "source": [
    "{k: [v] for k, v in L.items()}"
   ]
  },
  {
   "cell_type": "code",
   "execution_count": 11,
   "metadata": {},
   "outputs": [
    {
     "ename": "ValueError",
     "evalue": "dictionary update sequence element #0 has length 1; 2 is required",
     "output_type": "error",
     "traceback": [
      "\u001b[0;31m---------------------------------------------------------------------------\u001b[0m",
      "\u001b[0;31mValueError\u001b[0m                                Traceback (most recent call last)",
      "\u001b[0;32m<ipython-input-11-a00c478c04e6>\u001b[0m in \u001b[0;36m<module>\u001b[0;34m()\u001b[0m\n\u001b[0;32m----> 1\u001b[0;31m \u001b[0;34m[\u001b[0m\u001b[0mdict\u001b[0m\u001b[0;34m(\u001b[0m\u001b[0mi\u001b[0m\u001b[0;34m.\u001b[0m\u001b[0msplit\u001b[0m\u001b[0;34m(\u001b[0m\u001b[0;34m';'\u001b[0m\u001b[0;34m)\u001b[0m \u001b[0;32mfor\u001b[0m \u001b[0mi\u001b[0m \u001b[0;32min\u001b[0m \u001b[0mx\u001b[0m\u001b[0;34m)\u001b[0m \u001b[0;32mfor\u001b[0m \u001b[0mx\u001b[0m \u001b[0;32min\u001b[0m \u001b[0mmini\u001b[0m\u001b[0;34m[\u001b[0m\u001b[0;34m'INFO'\u001b[0m\u001b[0;34m]\u001b[0m\u001b[0;34m]\u001b[0m\u001b[0;34m\u001b[0m\u001b[0m\n\u001b[0m",
      "\u001b[0;31mValueError\u001b[0m: dictionary update sequence element #0 has length 1; 2 is required"
     ]
    }
   ],
   "source": [
    "[dict(i.split(';') for i in x) for x in mini['INFO']]"
   ]
  },
  {
   "cell_type": "code",
   "execution_count": null,
   "metadata": {},
   "outputs": [],
   "source": []
  },
  {
   "cell_type": "code",
   "execution_count": null,
   "metadata": {},
   "outputs": [],
   "source": [
    "def expand_info_col(df):"
   ]
  },
  {
   "cell_type": "code",
   "execution_count": null,
   "metadata": {},
   "outputs": [],
   "source": []
  }
 ],
 "metadata": {
  "kernelspec": {
   "display_name": "Python 2",
   "language": "python",
   "name": "python2"
  },
  "language_info": {
   "codemirror_mode": {
    "name": "ipython",
    "version": 2
   },
   "file_extension": ".py",
   "mimetype": "text/x-python",
   "name": "python",
   "nbconvert_exporter": "python",
   "pygments_lexer": "ipython2",
   "version": "2.7.16"
  }
 },
 "nbformat": 4,
 "nbformat_minor": 2
}
